{
 "cells": [
  {
   "cell_type": "code",
   "execution_count": 26,
   "metadata": {},
   "outputs": [],
   "source": [
    "import cv2\n",
    "from matplotlib import pyplot as plt\n",
    "import math\n",
    "from skimage import io, color\n",
    "from skimage.transform import resize\n",
    "import numpy as np\n",
    "import io"
   ]
  },
  {
   "cell_type": "code",
   "execution_count": 7,
   "metadata": {},
   "outputs": [
    {
     "ename": "NameError",
     "evalue": "name 'cv2' is not defined",
     "output_type": "error",
     "traceback": [
      "\u001b[1;31m\u001b[0m",
      "\u001b[1;31mNameError\u001b[0mTraceback (most recent call last)",
      "\u001b[1;32m<ipython-input-7-08f43ad70e47>\u001b[0m in \u001b[0;36m<module>\u001b[1;34m()\u001b[0m\n\u001b[1;32m----> 1\u001b[1;33m \u001b[0mip_img\u001b[0m \u001b[1;33m=\u001b[0m \u001b[0mcv2\u001b[0m\u001b[1;33m.\u001b[0m\u001b[0mimread\u001b[0m\u001b[1;33m(\u001b[0m\u001b[1;34m'D:/train_tomato2/Tomato_Early_blight/image1.jpg'\u001b[0m\u001b[1;33m,\u001b[0m\u001b[0mcv2\u001b[0m\u001b[1;33m.\u001b[0m\u001b[0mIMREAD_UNCHANGED\u001b[0m\u001b[1;33m)\u001b[0m\u001b[1;33m\u001b[0m\u001b[0m\n\u001b[0m\u001b[0;32m      2\u001b[0m \u001b[1;33m[\u001b[0m\u001b[0mrows\u001b[0m\u001b[1;33m,\u001b[0m\u001b[0mcols\u001b[0m\u001b[1;33m]\u001b[0m\u001b[1;33m=\u001b[0m\u001b[0mip_img\u001b[0m\u001b[1;33m.\u001b[0m\u001b[0mshape\u001b[0m\u001b[1;33m[\u001b[0m\u001b[1;36m0\u001b[0m\u001b[1;33m:\u001b[0m\u001b[1;36m2\u001b[0m\u001b[1;33m]\u001b[0m\u001b[1;33m\u001b[0m\u001b[0m\n\u001b[0;32m      3\u001b[0m \u001b[1;32mprint\u001b[0m\u001b[1;33m(\u001b[0m\u001b[0mrows\u001b[0m\u001b[1;33m)\u001b[0m\u001b[1;33m\u001b[0m\u001b[0m\n\u001b[0;32m      4\u001b[0m \u001b[0mfixed_size\u001b[0m\u001b[1;33m=\u001b[0m\u001b[1;33m(\u001b[0m\u001b[1;36m400\u001b[0m\u001b[1;33m,\u001b[0m\u001b[1;36m400\u001b[0m\u001b[1;33m)\u001b[0m\u001b[1;33m\u001b[0m\u001b[0m\n\u001b[0;32m      5\u001b[0m \u001b[0mimage\u001b[0m \u001b[1;33m=\u001b[0m \u001b[0mcv2\u001b[0m\u001b[1;33m.\u001b[0m\u001b[0mresize\u001b[0m\u001b[1;33m(\u001b[0m\u001b[0mip_img\u001b[0m\u001b[1;33m,\u001b[0m \u001b[0mfixed_size\u001b[0m\u001b[1;33m)\u001b[0m\u001b[1;33m\u001b[0m\u001b[0m\n",
      "\u001b[1;31mNameError\u001b[0m: name 'cv2' is not defined"
     ]
    }
   ],
   "source": [
    "ip_img = cv2.imread('D:/train_tomato2/Tomato_Early_blight/image1.jpg',cv2.IMREAD_UNCHANGED)\n",
    "[rows,cols]=ip_img.shape[0:2]\n",
    "print(rows)\n",
    "fixed_size=(400,400)\n",
    "image = cv2.resize(ip_img, fixed_size) "
   ]
  },
  {
   "cell_type": "code",
   "execution_count": 10,
   "metadata": {},
   "outputs": [
    {
     "data": {
      "text/plain": [
       "['',\n",
       " 'C:\\\\Users\\\\moham\\\\Anaconda2\\\\python27.zip',\n",
       " 'C:\\\\Users\\\\moham\\\\Anaconda2\\\\DLLs',\n",
       " 'C:\\\\Users\\\\moham\\\\Anaconda2\\\\lib',\n",
       " 'C:\\\\Users\\\\moham\\\\Anaconda2\\\\lib\\\\plat-win',\n",
       " 'C:\\\\Users\\\\moham\\\\Anaconda2\\\\lib\\\\lib-tk',\n",
       " 'C:\\\\Users\\\\moham\\\\Anaconda2',\n",
       " 'C:\\\\Users\\\\moham\\\\Anaconda2\\\\lib\\\\site-packages',\n",
       " 'C:\\\\Users\\\\moham\\\\Anaconda2\\\\lib\\\\site-packages\\\\win32',\n",
       " 'C:\\\\Users\\\\moham\\\\Anaconda2\\\\lib\\\\site-packages\\\\win32\\\\lib',\n",
       " 'C:\\\\Users\\\\moham\\\\Anaconda2\\\\lib\\\\site-packages\\\\Pythonwin',\n",
       " 'C:\\\\Users\\\\moham\\\\Anaconda2\\\\lib\\\\site-packages\\\\IPython\\\\extensions',\n",
       " 'C:\\\\Users\\\\moham\\\\.ipython']"
      ]
     },
     "execution_count": 10,
     "metadata": {},
     "output_type": "execute_result"
    }
   ],
   "source": [
    "import os\n",
    "os.sys.path"
   ]
  },
  {
   "cell_type": "code",
   "execution_count": 8,
   "metadata": {},
   "outputs": [
    {
     "ename": "NameError",
     "evalue": "name 'cv2' is not defined",
     "output_type": "error",
     "traceback": [
      "\u001b[1;31m\u001b[0m",
      "\u001b[1;31mNameError\u001b[0mTraceback (most recent call last)",
      "\u001b[1;32m<ipython-input-8-b5497087cd00>\u001b[0m in \u001b[0;36m<module>\u001b[1;34m()\u001b[0m\n\u001b[1;32m----> 1\u001b[1;33m \u001b[0mcv2\u001b[0m\u001b[1;33m.\u001b[0m\u001b[0mimshow\u001b[0m\u001b[1;33m(\u001b[0m\u001b[1;34m'image'\u001b[0m\u001b[1;33m,\u001b[0m\u001b[0mimage\u001b[0m\u001b[1;33m)\u001b[0m\u001b[1;33m\u001b[0m\u001b[0m\n\u001b[0m\u001b[0;32m      2\u001b[0m \u001b[0mcv2\u001b[0m\u001b[1;33m.\u001b[0m\u001b[0mwaitKey\u001b[0m\u001b[1;33m(\u001b[0m\u001b[1;36m0\u001b[0m\u001b[1;33m)\u001b[0m\u001b[1;33m\u001b[0m\u001b[0m\n\u001b[0;32m      3\u001b[0m \u001b[0mcv2\u001b[0m\u001b[1;33m.\u001b[0m\u001b[0mdestroyAllWindows\u001b[0m\u001b[1;33m(\u001b[0m\u001b[1;33m)\u001b[0m\u001b[1;33m\u001b[0m\u001b[0m\n",
      "\u001b[1;31mNameError\u001b[0m: name 'cv2' is not defined"
     ]
    }
   ],
   "source": [
    "cv2.imshow('image',image)\n",
    "cv2.waitKey(0)\n",
    "cv2.destroyAllWindows()"
   ]
  },
  {
   "cell_type": "code",
   "execution_count": 5,
   "metadata": {},
   "outputs": [],
   "source": [
    "cv2.imshow('LAB image',lab_img)\n",
    "cv2.waitKey(0)\n",
    "cv2.destroyAllWindows()"
   ]
  },
  {
   "cell_type": "code",
   "execution_count": 6,
   "metadata": {},
   "outputs": [],
   "source": [
    "k = 100   # Number of Super pixels\n",
    "m = 20    # Constant for normalizing the color proximity, range of m = [1,40]\n",
    "\n",
    "img_h = lab_img.shape[0] # Image Height\n",
    "img_w = lab_img.shape[1] # Image Width\n",
    "\n",
    "N = img_h * img_w  # Total number of pixels in the image\n",
    "S = int(math.sqrt(N /k)) # average size of each superpixel"
   ]
  },
  {
   "cell_type": "code",
   "execution_count": 4,
   "metadata": {},
   "outputs": [],
   "source": [
    "lab_img = color.rgb2lab(image)"
   ]
  },
  {
   "cell_type": "code",
   "execution_count": 10,
   "metadata": {},
   "outputs": [
    {
     "data": {
      "text/plain": [
       "160000"
      ]
     },
     "execution_count": 10,
     "metadata": {},
     "output_type": "execute_result"
    }
   ],
   "source": [
    "N\n"
   ]
  },
  {
   "cell_type": "code",
   "execution_count": 11,
   "metadata": {},
   "outputs": [
    {
     "data": {
      "text/plain": [
       "40"
      ]
     },
     "execution_count": 11,
     "metadata": {},
     "output_type": "execute_result"
    }
   ],
   "source": [
    "S"
   ]
  },
  {
   "cell_type": "code",
   "execution_count": null,
   "metadata": {},
   "outputs": [],
   "source": []
  },
  {
   "cell_type": "code",
   "execution_count": null,
   "metadata": {},
   "outputs": [],
   "source": []
  },
  {
   "cell_type": "code",
   "execution_count": 27,
   "metadata": {},
   "outputs": [],
   "source": [
    "clusters = []\n",
    "tag = {}\n",
    "\n",
    "# initialize the distance between pixels and cluster center as infinity\n",
    "dis = np.full((img_h, img_w), np.inf)"
   ]
  },
  {
   "cell_type": "code",
   "execution_count": 28,
   "metadata": {},
   "outputs": [
    {
     "data": {
      "text/plain": [
       "(40L, 40L)"
      ]
     },
     "execution_count": 28,
     "metadata": {},
     "output_type": "execute_result"
    }
   ],
   "source": [
    "dis.shape"
   ]
  },
  {
   "cell_type": "code",
   "execution_count": 29,
   "metadata": {},
   "outputs": [
    {
     "data": {
      "text/plain": [
       "array([[inf, inf, inf, ..., inf, inf, inf],\n",
       "       [inf, inf, inf, ..., inf, inf, inf],\n",
       "       [inf, inf, inf, ..., inf, inf, inf],\n",
       "       ...,\n",
       "       [inf, inf, inf, ..., inf, inf, inf],\n",
       "       [inf, inf, inf, ..., inf, inf, inf],\n",
       "       [inf, inf, inf, ..., inf, inf, inf]])"
      ]
     },
     "execution_count": 29,
     "metadata": {},
     "output_type": "execute_result"
    }
   ],
   "source": [
    "dis\n"
   ]
  },
  {
   "cell_type": "code",
   "execution_count": 30,
   "metadata": {},
   "outputs": [
    {
     "data": {
      "text/plain": [
       "1600L"
      ]
     },
     "execution_count": 30,
     "metadata": {},
     "output_type": "execute_result"
    }
   ],
   "source": [
    "N"
   ]
  },
  {
   "cell_type": "code",
   "execution_count": 31,
   "metadata": {},
   "outputs": [
    {
     "data": {
      "text/plain": [
       "12"
      ]
     },
     "execution_count": 31,
     "metadata": {},
     "output_type": "execute_result"
    }
   ],
   "source": [
    "S"
   ]
  },
  {
   "cell_type": "code",
   "execution_count": 32,
   "metadata": {},
   "outputs": [
    {
     "data": {
      "text/plain": [
       "40L"
      ]
     },
     "execution_count": 32,
     "metadata": {},
     "output_type": "execute_result"
    }
   ],
   "source": [
    "img_h"
   ]
  },
  {
   "cell_type": "code",
   "execution_count": 33,
   "metadata": {},
   "outputs": [
    {
     "ename": "NameError",
     "evalue": "name 'lab_img' is not defined",
     "output_type": "error",
     "traceback": [
      "\u001b[1;31m---------------------------------------------------------------------------\u001b[0m",
      "\u001b[1;31mNameError\u001b[0m                                 Traceback (most recent call last)",
      "\u001b[1;32m<ipython-input-33-3996f938e62d>\u001b[0m in \u001b[0;36m<module>\u001b[1;34m()\u001b[0m\n\u001b[1;32m----> 1\u001b[1;33m \u001b[0mlab_img\u001b[0m\u001b[1;33m[\u001b[0m\u001b[1;36m20\u001b[0m\u001b[1;33m,\u001b[0m\u001b[1;36m20\u001b[0m\u001b[1;33m]\u001b[0m\u001b[1;33m[\u001b[0m\u001b[1;36m0\u001b[0m\u001b[1;33m]\u001b[0m\u001b[1;33m\u001b[0m\u001b[0m\n\u001b[0m",
      "\u001b[1;31mNameError\u001b[0m: name 'lab_img' is not defined"
     ]
    }
   ],
   "source": [
    "lab_img[20,20][0]"
   ]
  },
  {
   "cell_type": "code",
   "execution_count": 34,
   "metadata": {},
   "outputs": [
    {
     "ename": "NameError",
     "evalue": "name 'lab_img' is not defined",
     "output_type": "error",
     "traceback": [
      "\u001b[1;31m---------------------------------------------------------------------------\u001b[0m",
      "\u001b[1;31mNameError\u001b[0m                                 Traceback (most recent call last)",
      "\u001b[1;32m<ipython-input-34-e56c8ab241a5>\u001b[0m in \u001b[0;36m<module>\u001b[1;34m()\u001b[0m\n\u001b[1;32m----> 1\u001b[1;33m \u001b[0mlab_img\u001b[0m\u001b[1;33m[\u001b[0m\u001b[1;36m20\u001b[0m\u001b[1;33m,\u001b[0m\u001b[1;36m20\u001b[0m\u001b[1;33m]\u001b[0m\u001b[1;33m[\u001b[0m\u001b[1;36m1\u001b[0m\u001b[1;33m]\u001b[0m\u001b[1;33m\u001b[0m\u001b[0m\n\u001b[0m",
      "\u001b[1;31mNameError\u001b[0m: name 'lab_img' is not defined"
     ]
    }
   ],
   "source": [
    "lab_img[20,20][1]"
   ]
  },
  {
   "cell_type": "code",
   "execution_count": 35,
   "metadata": {},
   "outputs": [
    {
     "ename": "NameError",
     "evalue": "name 'lab_img' is not defined",
     "output_type": "error",
     "traceback": [
      "\u001b[1;31m---------------------------------------------------------------------------\u001b[0m",
      "\u001b[1;31mNameError\u001b[0m                                 Traceback (most recent call last)",
      "\u001b[1;32m<ipython-input-35-2017f36f32eb>\u001b[0m in \u001b[0;36m<module>\u001b[1;34m()\u001b[0m\n\u001b[1;32m----> 1\u001b[1;33m \u001b[0mlab_img\u001b[0m\u001b[1;33m[\u001b[0m\u001b[1;36m20\u001b[0m\u001b[1;33m,\u001b[0m\u001b[1;36m20\u001b[0m\u001b[1;33m]\u001b[0m\u001b[1;33m[\u001b[0m\u001b[1;36m2\u001b[0m\u001b[1;33m]\u001b[0m\u001b[1;33m\u001b[0m\u001b[0m\n\u001b[0m",
      "\u001b[1;31mNameError\u001b[0m: name 'lab_img' is not defined"
     ]
    }
   ],
   "source": [
    "lab_img[20,20][2]"
   ]
  },
  {
   "cell_type": "code",
   "execution_count": 36,
   "metadata": {},
   "outputs": [],
   "source": [
    "# function which returns an object of class SuperPixel\n",
    "def make_superPixel(h, w,img):\n",
    "    return(SuperPixels(h, w,img[h,w][0],img[h,w][1],img[h,w][2]))\n",
    "    "
   ]
  },
  {
   "cell_type": "code",
   "execution_count": 37,
   "metadata": {},
   "outputs": [],
   "source": [
    "# To define the initial cluster centers distanced at S\n",
    "def initial_cluster_center(S,img,img_h,img_w,clusters):\n",
    "    h = S // 2\n",
    "    w = S // 2\n",
    "    while h < img_h:\n",
    "        while w < img_w:\n",
    "            clusters.append(make_superPixel(h, w,img))\n",
    "            w += S\n",
    "        w = S // 2\n",
    "        h += S\n",
    "    return clusters"
   ]
  },
  {
   "cell_type": "code",
   "execution_count": 38,
   "metadata": {},
   "outputs": [
    {
     "data": {
      "text/plain": [
       "[]"
      ]
     },
     "execution_count": 38,
     "metadata": {},
     "output_type": "execute_result"
    }
   ],
   "source": [
    "clusters"
   ]
  },
  {
   "cell_type": "code",
   "execution_count": 39,
   "metadata": {},
   "outputs": [],
   "source": [
    "# function to calculate gradient at each pixel \n",
    "def calc_gradient(h, w,img,img_w,img_h):\n",
    "    if w + 1 >= img_w:\n",
    "        w = img_w - 2\n",
    "    if h + 1 >= img_h:\n",
    "        h = img_h - 2\n",
    "    grad = img[w + 1, h + 1][0] - img[w, h][0] + img[w + 1, h + 1][1] - img[w, h][1] + img[w + 1, h + 1][2] - img[w, h][2]\n",
    "    return grad"
   ]
  },
  {
   "cell_type": "code",
   "execution_count": 40,
   "metadata": {},
   "outputs": [],
   "source": [
    "# function which reassign the cluster center to the pixel having the lowest gradient\n",
    "def reassign_cluster_center_acc_to_grad(clusters,img):\n",
    "    for c in clusters:\n",
    "        cluster_gradient = calc_gradient(c.h, c.w,img,img_w,img_h)\n",
    "        for dh in range(-1, 2):\n",
    "            for dw in range(-1, 2):\n",
    "                H = c.h + dh\n",
    "                W = c.w + dw\n",
    "                new_gradient = calc_gradient(H,W, img,img_w,img_h)\n",
    "                if new_gradient < cluster_gradient:\n",
    "                    c.update(H, W,img[H,W][0], img[H,W][1],img[H,W][2])\n",
    "                    c_gradient = new_gradient"
   ]
  },
  {
   "cell_type": "code",
   "execution_count": 41,
   "metadata": {},
   "outputs": [],
   "source": [
    "'''\n",
    "function to assign pixels to the nearest cluster using the Euclidean distance involving both color and spatial\n",
    "proximity.\n",
    "'''\n",
    "def assign_pixels_to_cluster(clusters,S,img,img_h,img_w,tag,dis):\n",
    "    for c in clusters:\n",
    "        for h in range(c.h - 2 * S, c.h + 2 * S):\n",
    "            if h < 0 or h >= img_h: continue\n",
    "            for w in range(c.w - 2 * S, c.w + 2 * S):\n",
    "                if w < 0 or w >= img_w: continue\n",
    "                l, a, b = img[h,w]\n",
    "                Dc = math.sqrt(math.pow(l - c.l, 2) + math.pow(a - c.a, 2) + math.pow(b - c.b, 2))\n",
    "                Ds = math.sqrt(math.pow(h - c.h, 2) + math.pow(w - c.w, 2))\n",
    "                D = math.sqrt(math.pow(Dc / m, 2) + math.pow(Ds /S, 2))\n",
    "                if D < dis[h,w]:\n",
    "                    if (h, w) not in tag:\n",
    "                        tag[(h, w)] = c\n",
    "                        c.pixels.append((h, w))\n",
    "                    else:\n",
    "                        tag[(h, w)].pixels.remove((h, w))\n",
    "                        tag[(h, w)] = c\n",
    "                        c.pixels.append((h, w))\n",
    "                    dis[h, w] = D"
   ]
  },
  {
   "cell_type": "code",
   "execution_count": 42,
   "metadata": {},
   "outputs": [],
   "source": [
    "# function to replace the cluster center with the mean of the pixels contained in the cluster\n",
    "def update_cluster_mean(clusters):\n",
    "    for c in clusters:\n",
    "        sum_h = sum_w = number = 0\n",
    "        #print(\"c.pixels\",c.pixels)\n",
    "        for p in c.pixels:\n",
    "            sum_h += p[0]\n",
    "            sum_w += p[1]\n",
    "            number += 1\n",
    "            H = sum_h // number\n",
    "            W = sum_w // number\n",
    "            c.update(H, W,img[H, W][0], img[H, W][1], img[H, W][2])"
   ]
  },
  {
   "cell_type": "code",
   "execution_count": 55,
   "metadata": {},
   "outputs": [
    {
     "ename": "NameError",
     "evalue": "name 'sum_h' is not defined",
     "output_type": "error",
     "traceback": [
      "\u001b[1;31m---------------------------------------------------------------------------\u001b[0m",
      "\u001b[1;31mNameError\u001b[0m                                 Traceback (most recent call last)",
      "\u001b[1;32m<ipython-input-55-ef1353c46bb1>\u001b[0m in \u001b[0;36m<module>\u001b[1;34m()\u001b[0m\n\u001b[1;32m----> 1\u001b[1;33m \u001b[0msum_h\u001b[0m\u001b[1;33m\u001b[0m\u001b[0m\n\u001b[0m",
      "\u001b[1;31mNameError\u001b[0m: name 'sum_h' is not defined"
     ]
    }
   ],
   "source": [
    "sum_h"
   ]
  },
  {
   "cell_type": "code",
   "execution_count": 43,
   "metadata": {},
   "outputs": [],
   "source": [
    "# replace the color of each pixel in a cluster by the color of the cluster's center\n",
    "def avg_color_cluster(img,name,clusters):\n",
    "    image = np.copy(img)\n",
    "    for c in clusters:\n",
    "        for p in c.pixels:\n",
    "            image[p[0],p[1]][0] = c.l\n",
    "            image[p[0],p[1]][1] = c.a\n",
    "            image[p[0],p[1]][2] = c.b\n",
    "        # To change the color of cluster center to Black\n",
    "        image[c.h, c.w][0] = 0\n",
    "        image[c.h, c.w][1] = 0\n",
    "        image[c.h, c.w][2] = 0\n",
    "    lab2rgb(name, image)"
   ]
  },
  {
   "cell_type": "code",
   "execution_count": 44,
   "metadata": {},
   "outputs": [],
   "source": [
    "# function for the Simple Linear Iterative Clustering\n",
    "def slic(S,img,img_h,img_w,clusters,tag,dis):\n",
    "    clusters = initial_cluster_center(S,img,img_h,img_w,clusters)\n",
    "    reassign_cluster_center_acc_to_grad(clusters,img)\n",
    "    for i in range(10): # usually the algortihm converges within 10 iterations\n",
    "        assign_pixels_to_cluster(clusters,S,img,img_h,img_w,tag,dis)\n",
    "        update_cluster_mean(clusters)\n",
    "        if i == 9 : # to print the output after 10 iterations\n",
    "            name = 'out_m{m}_k{k}.png'.format(loop=i, m=m, k=k)\n",
    "            avg_color_cluster(img,name, clusters)\n",
    "    return clusters"
   ]
  },
  {
   "cell_type": "code",
   "execution_count": 45,
   "metadata": {},
   "outputs": [],
   "source": [
    "\n",
    "# function to convert LAB images back to RGB and save it\n",
    "def lab2rgb(path, lab_arr):\n",
    "    rgb_arr = color.lab2rgb(lab_arr)\n",
    "    cv2.imshow('RGB image',rgb_arr)\n",
    "    cv2.waitKey(0)\n",
    "    cv2.destroyAllWindows()\n",
    "    io.imsave(path, rgb_arr)"
   ]
  },
  {
   "cell_type": "code",
   "execution_count": 46,
   "metadata": {},
   "outputs": [],
   "source": [
    "# A class to initialize the super pixels, of the form - [h,y,l,a,b].\n",
    "class SuperPixels(object):\n",
    "\n",
    "    def __init__(self, h, w, l=0, a=0, b=0):\n",
    "        self.update(h, w, l, a, b)\n",
    "        self.pixels = []\n",
    "\n",
    "    def update(self, h, w, l, a, b):\n",
    "        self.h = h\n",
    "        self.w = w\n",
    "        self.l = l\n",
    "        self.a = a\n",
    "        self.b = b"
   ]
  },
  {
   "cell_type": "code",
   "execution_count": 63,
   "metadata": {},
   "outputs": [
    {
     "name": "stdout",
     "output_type": "stream",
     "text": [
      "(256L, 256L, 3L)\n"
     ]
    }
   ],
   "source": [
    "# read the input RGB image\n",
    "rgb = cv2.imread(\"D:/Saiqa/chess.jpg\")\n",
    "print(rgb.shape)\n",
    "\n",
    "# input images are resized to (400 x 400) for processing\n",
    "# img = resize(rgb, (400,400))\n",
    "# print(img.shape)\n",
    "\n",
    "# convert RGB to LAB\n",
    "img = color.rgb2lab(img)\n",
    "\n",
    "k = 10  # Number of Super pixels\n",
    "m = 20    # Constant for normalizing the color proximity, range of m = [1,40]\n",
    "\n",
    "img_h = img.shape[0] # Image Height\n",
    "img_w = img.shape[1] # Image Width\n",
    "\n",
    "N = img_h * img_w  # Total number of pixels in the image\n",
    "S = int(math.sqrt(N /k)) # average size of each superpixel\n",
    "\n",
    "clusters = []\n",
    "tag = {}\n",
    "# initialize the distance between pixels and cluster center as infinity\n",
    "dis = np.full((img_h, img_w), np.inf)"
   ]
  },
  {
   "cell_type": "code",
   "execution_count": 66,
   "metadata": {},
   "outputs": [
    {
     "ename": "AttributeError",
     "evalue": "'module' object has no attribute 'imsave'",
     "output_type": "error",
     "traceback": [
      "\u001b[1;31m---------------------------------------------------------------------------\u001b[0m",
      "\u001b[1;31mAttributeError\u001b[0m                            Traceback (most recent call last)",
      "\u001b[1;32m<ipython-input-66-2beca5fdf258>\u001b[0m in \u001b[0;36m<module>\u001b[1;34m()\u001b[0m\n\u001b[1;32m----> 1\u001b[1;33m \u001b[0mcluster\u001b[0m \u001b[1;33m=\u001b[0m \u001b[0mslic\u001b[0m\u001b[1;33m(\u001b[0m\u001b[0mS\u001b[0m\u001b[1;33m,\u001b[0m\u001b[0mimg\u001b[0m\u001b[1;33m,\u001b[0m\u001b[0mimg_h\u001b[0m\u001b[1;33m,\u001b[0m\u001b[0mimg_w\u001b[0m\u001b[1;33m,\u001b[0m\u001b[0mclusters\u001b[0m\u001b[1;33m,\u001b[0m\u001b[0mtag\u001b[0m\u001b[1;33m,\u001b[0m\u001b[0mdis\u001b[0m\u001b[1;33m)\u001b[0m\u001b[1;33m\u001b[0m\u001b[0m\n\u001b[0m\u001b[0;32m      2\u001b[0m \u001b[1;33m\u001b[0m\u001b[0m\n",
      "\u001b[1;32m<ipython-input-58-0f5720bc66ee>\u001b[0m in \u001b[0;36mslic\u001b[1;34m(S, img, img_h, img_w, clusters, tag, dis)\u001b[0m\n\u001b[0;32m      7\u001b[0m         \u001b[1;32mif\u001b[0m \u001b[0mi\u001b[0m \u001b[1;33m==\u001b[0m \u001b[1;36m9\u001b[0m \u001b[1;33m:\u001b[0m \u001b[1;31m# to print the output after 10 iterations\u001b[0m\u001b[1;33m\u001b[0m\u001b[0m\n\u001b[0;32m      8\u001b[0m             \u001b[0mname\u001b[0m \u001b[1;33m=\u001b[0m \u001b[1;34m'out_m_k.jpg'\u001b[0m\u001b[1;33m.\u001b[0m\u001b[0mformat\u001b[0m\u001b[1;33m(\u001b[0m\u001b[0mloop\u001b[0m\u001b[1;33m=\u001b[0m\u001b[0mi\u001b[0m\u001b[1;33m,\u001b[0m \u001b[0mm\u001b[0m\u001b[1;33m=\u001b[0m\u001b[0mm\u001b[0m\u001b[1;33m,\u001b[0m \u001b[0mk\u001b[0m\u001b[1;33m=\u001b[0m\u001b[0mk\u001b[0m\u001b[1;33m)\u001b[0m\u001b[1;33m\u001b[0m\u001b[0m\n\u001b[1;32m----> 9\u001b[1;33m             \u001b[0mavg_color_cluster\u001b[0m\u001b[1;33m(\u001b[0m\u001b[0mimg\u001b[0m\u001b[1;33m,\u001b[0m\u001b[0mname\u001b[0m\u001b[1;33m,\u001b[0m \u001b[0mclusters\u001b[0m\u001b[1;33m)\u001b[0m\u001b[1;33m\u001b[0m\u001b[0m\n\u001b[0m\u001b[0;32m     10\u001b[0m     \u001b[1;32mreturn\u001b[0m \u001b[0mclusters\u001b[0m\u001b[1;33m\u001b[0m\u001b[0m\n",
      "\u001b[1;32m<ipython-input-43-d4992ef63ce6>\u001b[0m in \u001b[0;36mavg_color_cluster\u001b[1;34m(img, name, clusters)\u001b[0m\n\u001b[0;32m     11\u001b[0m         \u001b[0mimage\u001b[0m\u001b[1;33m[\u001b[0m\u001b[0mc\u001b[0m\u001b[1;33m.\u001b[0m\u001b[0mh\u001b[0m\u001b[1;33m,\u001b[0m \u001b[0mc\u001b[0m\u001b[1;33m.\u001b[0m\u001b[0mw\u001b[0m\u001b[1;33m]\u001b[0m\u001b[1;33m[\u001b[0m\u001b[1;36m1\u001b[0m\u001b[1;33m]\u001b[0m \u001b[1;33m=\u001b[0m \u001b[1;36m0\u001b[0m\u001b[1;33m\u001b[0m\u001b[0m\n\u001b[0;32m     12\u001b[0m         \u001b[0mimage\u001b[0m\u001b[1;33m[\u001b[0m\u001b[0mc\u001b[0m\u001b[1;33m.\u001b[0m\u001b[0mh\u001b[0m\u001b[1;33m,\u001b[0m \u001b[0mc\u001b[0m\u001b[1;33m.\u001b[0m\u001b[0mw\u001b[0m\u001b[1;33m]\u001b[0m\u001b[1;33m[\u001b[0m\u001b[1;36m2\u001b[0m\u001b[1;33m]\u001b[0m \u001b[1;33m=\u001b[0m \u001b[1;36m0\u001b[0m\u001b[1;33m\u001b[0m\u001b[0m\n\u001b[1;32m---> 13\u001b[1;33m     \u001b[0mlab2rgb\u001b[0m\u001b[1;33m(\u001b[0m\u001b[0mname\u001b[0m\u001b[1;33m,\u001b[0m \u001b[0mimage\u001b[0m\u001b[1;33m)\u001b[0m\u001b[1;33m\u001b[0m\u001b[0m\n\u001b[0m",
      "\u001b[1;32m<ipython-input-45-a39993823278>\u001b[0m in \u001b[0;36mlab2rgb\u001b[1;34m(path, lab_arr)\u001b[0m\n\u001b[0;32m      6\u001b[0m     \u001b[0mcv2\u001b[0m\u001b[1;33m.\u001b[0m\u001b[0mwaitKey\u001b[0m\u001b[1;33m(\u001b[0m\u001b[1;36m0\u001b[0m\u001b[1;33m)\u001b[0m\u001b[1;33m\u001b[0m\u001b[0m\n\u001b[0;32m      7\u001b[0m     \u001b[0mcv2\u001b[0m\u001b[1;33m.\u001b[0m\u001b[0mdestroyAllWindows\u001b[0m\u001b[1;33m(\u001b[0m\u001b[1;33m)\u001b[0m\u001b[1;33m\u001b[0m\u001b[0m\n\u001b[1;32m----> 8\u001b[1;33m     \u001b[0mio\u001b[0m\u001b[1;33m.\u001b[0m\u001b[0mimsave\u001b[0m\u001b[1;33m(\u001b[0m\u001b[0mpath\u001b[0m\u001b[1;33m,\u001b[0m \u001b[0mrgb_arr\u001b[0m\u001b[1;33m)\u001b[0m\u001b[1;33m\u001b[0m\u001b[0m\n\u001b[0m",
      "\u001b[1;31mAttributeError\u001b[0m: 'module' object has no attribute 'imsave'"
     ]
    }
   ],
   "source": [
    " cluster = slic(S,img,img_h,img_w,clusters,tag,dis)\n",
    "\n"
   ]
  },
  {
   "cell_type": "code",
   "execution_count": 58,
   "metadata": {},
   "outputs": [],
   "source": [
    "def slic(S,img,img_h,img_w,clusters,tag,dis):\n",
    "    clusters = initial_cluster_center(S,img,img_h,img_w,clusters)\n",
    "    reassign_cluster_center_acc_to_grad(clusters,img)\n",
    "    for i in range(10): # usually the algortihm converges within 10 iterations\n",
    "        assign_pixels_to_cluster(clusters,S,img,img_h,img_w,tag,dis)\n",
    "        update_cluster_mean(clusters)\n",
    "        if i == 9 : # to print the output after 10 iterations\n",
    "            name = 'out_m_k.jpg'.format(loop=i, m=m, k=k)\n",
    "            avg_color_cluster(img,name, clusters)\n",
    "    return clusters"
   ]
  },
  {
   "cell_type": "code",
   "execution_count": 59,
   "metadata": {},
   "outputs": [
    {
     "data": {
      "text/plain": [
       "[]"
      ]
     },
     "execution_count": 59,
     "metadata": {},
     "output_type": "execute_result"
    }
   ],
   "source": [
    "clusters"
   ]
  },
  {
   "cell_type": "code",
   "execution_count": 54,
   "metadata": {},
   "outputs": [
    {
     "name": "stdout",
     "output_type": "stream",
     "text": [
      "H 14 : W 14, l 0.0, a 0.0, b 0.0\n",
      "H 14 : W 42, l 0.0, a 0.0, b 0.0\n",
      "H 14 : W 70, l 0.0, a 0.0, b 0.0\n",
      "H 14 : W 98, l 0.0, a 0.0, b 0.0\n",
      "H 14 : W 126, l 0.0, a 0.0, b 0.0\n",
      "H 13 : W 157, l 0.0, a 0.0, b 0.0\n",
      "H 48 : W 185, l 170.769606119, a -150.65786591, b 153.534878884\n",
      "H 30 : W 193, l 49.9114211652, a -67.6773059443, b 199.841583754\n",
      "H 13 : W 227, l 0.0, a 0.0, b 0.0\n",
      "H 12 : W 265, l 0.0, a 0.0, b 0.0\n",
      "H 13 : W 294, l 0.0, a 0.0, b 0.0\n",
      "H 14 : W 322, l 0.0, a 0.0, b 0.0\n",
      "H 14 : W 350, l 0.0, a 0.0, b 0.0\n",
      "H 14 : W 382, l 0.0, a 0.0, b 0.0\n",
      "H 42 : W 14, l 0.0, a 0.0, b 0.0\n",
      "H 42 : W 42, l 0.0, a 0.0, b 0.0\n",
      "H 42 : W 70, l 0.0, a 0.0, b 0.0\n",
      "H 42 : W 98, l 0.0, a 0.0, b 0.0\n",
      "H 42 : W 126, l 0.0, a 0.0, b 0.0\n",
      "H 41 : W 159, l 0.0, a 0.0, b 0.0\n",
      "H 47 : W 188, l 162.804549612, a -139.316335659, b 157.038921572\n",
      "H 61 : W 202, l 880.62886975, a 1037.94881883, b 872.812695787\n",
      "H 44 : W 234, l 0.0, a 0.0, b 0.0\n",
      "H 39 : W 265, l 0.0, a 0.0, b 0.0\n",
      "H 39 : W 293, l 0.0, a 0.0, b 0.0\n",
      "H 42 : W 322, l 0.0, a 0.0, b 0.0\n",
      "H 42 : W 350, l 0.0, a 0.0, b 0.0\n",
      "H 42 : W 382, l 0.0, a 0.0, b 0.0\n",
      "H 70 : W 14, l 0.0, a 0.0, b 0.0\n",
      "H 70 : W 42, l 0.0, a 0.0, b 0.0\n",
      "H 70 : W 70, l 0.0, a 0.0, b 0.0\n",
      "H 70 : W 98, l 0.0, a 0.0, b 0.0\n",
      "H 70 : W 124, l 0.0, a 0.0, b 0.0\n",
      "H 68 : W 152, l 0.0, a 0.0, b 0.0\n",
      "H 83 : W 189, l 1822.87506813, a 2127.84312524, b 1785.74636113\n",
      "H 76 : W 202, l 1649.00032869, a 1926.23602305, b 1617.07885283\n",
      "H 69 : W 249, l 0.0, a 0.0, b 0.0\n",
      "H 63 : W 267, l 0.0, a 0.0, b 0.0\n",
      "H 65 : W 295, l 0.0, a 0.0, b 0.0\n",
      "H 69 : W 323, l 0.0, a 0.0, b 0.0\n",
      "H 70 : W 350, l 0.0, a 0.0, b 0.0\n",
      "H 70 : W 381, l 0.0, a 0.0, b 0.0\n",
      "H 98 : W 14, l 0.0, a 0.0, b 0.0\n",
      "H 98 : W 42, l 0.0, a 0.0, b 0.0\n",
      "H 98 : W 70, l 0.0, a 0.0, b 0.0\n",
      "H 98 : W 98, l 0.0, a 0.0, b 0.0\n",
      "H 98 : W 130, l 0.0, a 0.0, b 0.0\n",
      "H 98 : W 158, l -9.55599573028, a 95.06277827, b -65.1028283372\n",
      "H 96 : W 193, l 1811.60126638, a 2115.00810086, b 1774.08428766\n",
      "H 95 : W 209, l 1470.4897341, a 1720.88881304, b 1441.33221759\n",
      "H 130 : W 254, l 1554.91177329, a 1842.16112388, b 658.854443328\n",
      "H 125 : W 258, l 1412.27246572, a 1676.51105497, b 567.130672951\n",
      "H 121 : W 268, l 1654.31450644, a 1947.66673314, b 979.83694356\n",
      "H 91 : W 310, l 0.0, a 0.0, b 0.0\n",
      "H 107 : W 348, l 127.113203974, a -116.448236462, b 123.754284928\n",
      "H 97 : W 382, l 0.0, a 0.0, b 0.0\n",
      "H 126 : W 13, l 0.0, a 0.0, b 0.0\n",
      "H 126 : W 42, l 0.0, a 0.0, b 0.0\n",
      "H 126 : W 70, l 0.0, a 0.0, b 0.0\n",
      "H 125 : W 97, l 0.0, a 0.0, b 0.0\n",
      "H 131 : W 124, l 0.0, a 0.0, b 0.0\n",
      "H 126 : W 150, l 0.0, a 0.0, b 0.0\n",
      "H 113 : W 193, l 673.069452237, a 799.032888418, b 672.120393518\n",
      "H 102 : W 201, l 848.704559564, a 1002.16943625, b 841.838165371\n",
      "H 133 : W 255, l 1653.92318931, a 1952.83696086, b 828.269734047\n",
      "H 128 : W 257, l 1428.89013221, a 1693.70910386, b 626.045581473\n",
      "H 121 : W 278, l 1646.58077332, a 1937.02603454, b 1028.37901632\n",
      "H 121 : W 326, l 1054.35943428, a 1256.51212124, b 444.388774771\n",
      "H 137 : W 340, l 1188.88094763, a 1415.86228066, b 456.707530573\n",
      "H 124 : W 382, l 0.0, a 0.0, b 0.0\n",
      "H 154 : W 13, l 0.0, a 0.0, b 0.0\n",
      "H 153 : W 41, l 0.0, a 0.0, b 0.0\n",
      "H 153 : W 69, l 0.0, a 0.0, b 0.0\n",
      "H 156 : W 101, l 0.0, a 0.0, b 0.0\n",
      "H 164 : W 144, l 1875.81354123, a 2188.59191122, b 1838.64113352\n",
      "H 143 : W 156, l 0.0, a 0.0, b 0.0\n",
      "H 161 : W 180, l 1602.2052671, a 1872.43524809, b 1572.1949192\n",
      "H 159 : W 192, l 1435.45308472, a 1679.29108536, b 1409.13965124\n",
      "H 173 : W 248, l 1839.52442002, a 2166.08375364, b 1015.91686211\n",
      "H 127 : W 268, l 1596.50892308, a 1878.96454456, b 990.074523103\n",
      "H 143 : W 321, l 875.670432872, a 1075.37620995, b -63.9958413756\n",
      "H 148 : W 306, l 894.610750006, a 1116.67113404, b -272.068105423\n",
      "H 144 : W 331, l 1079.88284472, a 1294.80514538, b 290.545184957\n",
      "H 170 : W 387, l 0.0, a 0.0, b 0.0\n",
      "H 181 : W 13, l 0.0, a 0.0, b 0.0\n",
      "H 183 : W 40, l 0.0, a 0.0, b 0.0\n",
      "H 179 : W 69, l 0.0, a 0.0, b 0.0\n",
      "H 191 : W 82, l 0.0, a 0.0, b 0.0\n",
      "H 207 : W 125, l 1497.50233368, a 1751.52678773, b 1469.97145894\n",
      "H 173 : W 172, l 1672.2936909, a 1953.55193444, b 1640.814332\n",
      "H 167 : W 185, l 1714.1334338, a 2002.05937004, b 1680.3502466\n",
      "H 185 : W 207, l 1616.94223268, a 1892.61144804, b 1437.83468743\n",
      "H 194 : W 254, l 1820.8235219, a 2145.86817907, b 962.180743903\n",
      "H 188 : W 271, l 1430.64614363, a 1701.28053363, b 504.248067294\n",
      "H 202 : W 301, l 1591.90596617, a 1878.81008768, b 837.998813046\n",
      "H 159 : W 305, l 1158.83294016, a 1388.55368834, b 290.325889643\n",
      "H 194 : W 350, l 882.050854843, a 1080.83834105, b -40.5444938402\n",
      "H 172 : W 358, l 932.427922738, a 1150.75626975, b -153.133942533\n",
      "H 219 : W 12, l 0.0, a 0.0, b 0.0\n",
      "H 208 : W 64, l 33.2176707182, a 76.1092009175, b 168.713838552\n",
      "H 218 : W 97, l 1941.04062366, a 2263.93685093, b 1899.7423981\n",
      "H 208 : W 98, l 1305.66092113, a 1529.37330026, b 1285.33877409\n",
      "H 222 : W 149, l 1472.81717551, a 1722.51008775, b 1446.7592455\n",
      "H 210 : W 159, l 1623.51609742, a 1896.67905, b 1591.99876425\n",
      "H 203 : W 169, l 1677.54188495, a 1959.17724103, b 1644.13885891\n",
      "H 198 : W 230, l 1194.2311814, a 1444.08548867, b 85.8441294592\n",
      "H 200 : W 242, l 1674.69012342, a 1976.92835135, b 843.049349644\n",
      "H 214 : W 266, l 1349.44591221, a 1602.20496969, b 557.451515798\n",
      "H 217 : W 285, l 1283.48423846, a 1538.61457277, b 268.339676318\n",
      "H 206 : W 305, l 1068.20097122, a 1312.18732023, b -153.671036754\n",
      "H 204 : W 357, l 804.665347437, a 993.121232844, b -89.1256041107\n",
      "H 191 : W 359, l 786.608343554, a 977.733321633, b -154.241206743\n",
      "H 248 : W 40, l 1741.89791579, a 2060.59093998, b 750.653780592\n",
      "H 258 : W 57, l 1871.77433741, a 2203.20260448, b 1050.06162426\n",
      "H 247 : W 65, l 1836.2031373, a 2163.51802247, b 983.455060558\n",
      "H 257 : W 79, l 1743.39476948, a 2056.68722042, b 893.49476574\n",
      "H 242 : W 129, l 1705.39699192, a 1994.3397426, b 1553.99495345\n",
      "H 239 : W 155, l 1947.87990257, a 2271.95812321, b 1906.94710975\n",
      "H 220 : W 170, l 1317.43595591, a 1542.78157937, b 1294.92766879\n",
      "H 248 : W 220, l 1786.48687941, a 2107.38631231, b 903.782848183\n",
      "H 235 : W 226, l 1781.08389032, a 2099.09269006, b 955.484161283\n",
      "H 222 : W 273, l 1318.9918697, a 1578.20116104, b 315.189253726\n",
      "H 215 : W 292, l 1263.45555971, a 1520.50428592, b 176.003926379\n",
      "H 235 : W 343, l 929.215452459, a 1120.55554249, b 200.587874245\n",
      "H 256 : W 341, l 908.63422163, a 1110.46321469, b -8.41379221882\n",
      "H 259 : W 345, l 880.412311983, a 1084.41356056, b -99.9779141502\n",
      "H 251 : W 26, l 891.731568639, a 1072.28785686, b 258.195657561\n",
      "H 262 : W 60, l 1908.476154, a 2246.71848108, b 1048.79754871\n",
      "H 266 : W 64, l 1880.816663, a 2213.09373899, b 1072.52279802\n",
      "H 287 : W 104, l 1299.15012171, a 1556.98218078, b 278.103613675\n",
      "H 276 : W 91, l 1681.51541542, a 1983.27483342, b 892.97777792\n",
      "H 287 : W 152, l 1570.54390688, a 1849.21227766, b 968.245448486\n",
      "H 252 : W 165, l 1547.01876852, a 1808.03652617, b 1517.8843291\n",
      "H 226 : W 237, l 1964.26150549, a 2309.6905882, b 1136.0062356\n",
      "H 258 : W 245, l 1494.25309719, a 1778.91015192, b 468.926207225\n",
      "H 235 : W 274, l 1339.67441906, a 1604.26639332, b 290.140811161\n",
      "H 272 : W 274, l 1061.95708246, a 1290.1830158, b 28.5122598598\n",
      "H 249 : W 321, l 1151.94249037, a 1387.48840025, b 180.123975502\n",
      "H 257 : W 328, l 1014.01202016, a 1222.6090352, b 185.891509645\n",
      "H 250 : W 386, l 0.63189820282, a 2.83484109677, b 0.997997603727\n",
      "H 290 : W 12, l 0.0, a 0.0, b 0.0\n",
      "H 272 : W 52, l 1913.04345834, a 2244.10877687, b 1300.38443821\n",
      "H 279 : W 73, l 1321.96859543, a 1581.64245498, b 319.754529146\n",
      "H 275 : W 85, l 1632.5199119, a 1928.29366165, b 809.64519702\n",
      "H 280 : W 105, l 1316.74880985, a 1569.45097564, b 434.961997555\n",
      "H 275 : W 132, l 1184.21766646, a 1411.04034211, b 447.157032953\n",
      "H 291 : W 135, l 1694.59749087, a 1993.08811649, b 1058.79593857\n",
      "H 296 : W 191, l 1231.01261636, a 1449.87396987, b 926.63249637\n",
      "H 298 : W 245, l 860.798484261, a 1049.25138558, b 43.2879863624\n",
      "H 279 : W 235, l 1240.08608749, a 1491.68615696, b 188.69910394\n",
      "H 288 : W 305, l 853.386174112, a 1042.82300221, b 15.8516583606\n",
      "H 285 : W 304, l 850.289555087, a 1039.68737464, b 7.37362794404\n",
      "H 275 : W 350, l 962.796742109, a 1144.32972692, b 546.875183861\n",
      "H 293 : W 380, l 0.0, a 0.0, b 0.0\n",
      "H 322 : W 13, l 0.0, a 0.0, b 0.0\n",
      "H 320 : W 42, l 0.0, a 0.0, b 0.0\n",
      "H 312 : W 60, l 43.5537348994, a 118.020097853, b -86.9574160452\n",
      "H 289 : W 94, l 1522.35524035, a 1804.75642286, b 630.698597084\n",
      "H 300 : W 132, l 1736.90204326, a 2051.07199957, b 837.578521733\n",
      "H 344 : W 166, l -3.8688329986, a 15.8643717282, b -4.42018988749\n",
      "H 295 : W 165, l 1955.35373594, a 2292.57252113, b 1361.12548604\n",
      "H 329 : W 190, l 1741.90993743, a 2037.81192273, b 1504.65659121\n",
      "H 328 : W 221, l 0.0, a 0.0, b 0.0\n",
      "H 314 : W 258, l 784.006530279, a 949.841563024, b 160.025878798\n",
      "H 317 : W 303, l 38.5872628954, a -60.4804096193, b 162.784254703\n",
      "H 293 : W 345, l 181.047065673, a -144.785197554, b 165.396979986\n",
      "H 317 : W 344, l 0.0, a 0.0, b 0.0\n",
      "H 321 : W 382, l 0.0, a 0.0, b 0.0\n",
      "H 350 : W 14, l 0.0, a 0.0, b 0.0\n",
      "H 350 : W 42, l 0.0, a 0.0, b 0.0\n",
      "H 345 : W 70, l 0.0, a 0.0, b 0.0\n",
      "H 343 : W 98, l 0.0, a 0.0, b 0.0\n",
      "H 347 : W 130, l 0.0, a 0.0, b 0.0\n",
      "H 354 : W 160, l 141.989417424, a -119.367839101, b 97.9228146799\n",
      "H 354 : W 174, l 974.625536231, a 1150.27786165, b 867.65045366\n",
      "H 350 : W 212, l 0.0, a 0.0, b 0.0\n",
      "H 345 : W 239, l 0.0, a 0.0, b 0.0\n",
      "H 344 : W 265, l 0.0, a 0.0, b 0.0\n",
      "H 342 : W 293, l 0.0, a 0.0, b 0.0\n",
      "H 345 : W 321, l 0.0, a 0.0, b 0.0\n",
      "H 350 : W 350, l 0.0, a 0.0, b 0.0\n",
      "H 350 : W 382, l 0.0, a 0.0, b 0.0\n",
      "H 382 : W 14, l 0.0, a 0.0, b 0.0\n",
      "H 382 : W 42, l 0.0, a 0.0, b 0.0\n",
      "H 382 : W 70, l 0.0, a 0.0, b 0.0\n",
      "H 381 : W 98, l 0.0, a 0.0, b 0.0\n",
      "H 382 : W 131, l 0.0, a 0.0, b 0.0\n",
      "H 347 : W 164, l 104.53792128, a 99.31311678, b 102.09383621\n",
      "H 369 : W 180, l 1554.1082955, a 1816.94220102, b 1521.36268496\n",
      "H 383 : W 209, l 0.0, a 0.0, b 0.0\n",
      "H 381 : W 238, l 0.0, a 0.0, b 0.0\n",
      "H 381 : W 266, l 0.0, a 0.0, b 0.0\n",
      "H 381 : W 294, l 0.0, a 0.0, b 0.0\n",
      "H 382 : W 322, l 0.0, a 0.0, b 0.0\n",
      "H 382 : W 350, l 0.0, a 0.0, b 0.0\n",
      "H 382 : W 382, l 0.0, a 0.0, b 0.0\n"
     ]
    }
   ],
   "source": [
    "# superpixels\n",
    "for c in clusters:\n",
    "    print(\"H {} : W {}, l {}, a {}, b {}\".format(c.h,c.w,c.l,c.a,c.b))"
   ]
  },
  {
   "cell_type": "code",
   "execution_count": 87,
   "metadata": {},
   "outputs": [
    {
     "ename": "TypeError",
     "evalue": "Required argument 'mat' (pos 2) not found",
     "output_type": "error",
     "traceback": [
      "\u001b[1;31m---------------------------------------------------------------------------\u001b[0m",
      "\u001b[1;31mTypeError\u001b[0m                                 Traceback (most recent call last)",
      "\u001b[1;32m<ipython-input-87-3d89e98ca0b8>\u001b[0m in \u001b[0;36m<module>\u001b[1;34m()\u001b[0m\n\u001b[1;32m----> 1\u001b[1;33m \u001b[0mcv2\u001b[0m\u001b[1;33m.\u001b[0m\u001b[0mimshow\u001b[0m\u001b[1;33m(\u001b[0m\u001b[1;34m'out_m_k.jpg'\u001b[0m\u001b[1;33m)\u001b[0m\u001b[1;33m\u001b[0m\u001b[0m\n\u001b[0m",
      "\u001b[1;31mTypeError\u001b[0m: Required argument 'mat' (pos 2) not found"
     ]
    }
   ],
   "source": [
    "cv2.imshow('out_m_k.jpg')"
   ]
  },
  {
   "cell_type": "code",
   "execution_count": 88,
   "metadata": {},
   "outputs": [],
   "source": [
    "from skimage import segmentation, color\n",
    "from skimage.io import imread\n",
    "from skimage.future import graph\n",
    "from matplotlib import pyplot as plt\n",
    "img = imread('D:/train_tomato2/Tomato_Early_blight/image1.jpg')\n",
    "\n",
    "img_segments = segmentation.slic(img, compactness=20, n_segments=500)\n",
    "superpixels = color.label2rgb(img_segments, img, kind='avg')"
   ]
  },
  {
   "cell_type": "code",
   "execution_count": 90,
   "metadata": {},
   "outputs": [
    {
     "ename": "TypeError",
     "evalue": "Required argument 'mat' (pos 2) not found",
     "output_type": "error",
     "traceback": [
      "\u001b[1;31m---------------------------------------------------------------------------\u001b[0m",
      "\u001b[1;31mTypeError\u001b[0m                                 Traceback (most recent call last)",
      "\u001b[1;32m<ipython-input-90-3e65781f0403>\u001b[0m in \u001b[0;36m<module>\u001b[1;34m()\u001b[0m\n\u001b[1;32m----> 1\u001b[1;33m \u001b[0mcv2\u001b[0m\u001b[1;33m.\u001b[0m\u001b[0mimshow\u001b[0m\u001b[1;33m(\u001b[0m\u001b[0mimg_segments\u001b[0m\u001b[1;33m)\u001b[0m\u001b[1;33m\u001b[0m\u001b[0m\n\u001b[0m",
      "\u001b[1;31mTypeError\u001b[0m: Required argument 'mat' (pos 2) not found"
     ]
    }
   ],
   "source": [
    "cv2.imshow()"
   ]
  },
  {
   "cell_type": "code",
   "execution_count": 15,
   "metadata": {},
   "outputs": [
    {
     "data": {
      "application/javascript": [
       "/* Put everything inside the global mpl namespace */\n",
       "window.mpl = {};\n",
       "\n",
       "\n",
       "mpl.get_websocket_type = function() {\n",
       "    if (typeof(WebSocket) !== 'undefined') {\n",
       "        return WebSocket;\n",
       "    } else if (typeof(MozWebSocket) !== 'undefined') {\n",
       "        return MozWebSocket;\n",
       "    } else {\n",
       "        alert('Your browser does not have WebSocket support.' +\n",
       "              'Please try Chrome, Safari or Firefox ≥ 6. ' +\n",
       "              'Firefox 4 and 5 are also supported but you ' +\n",
       "              'have to enable WebSockets in about:config.');\n",
       "    };\n",
       "}\n",
       "\n",
       "mpl.figure = function(figure_id, websocket, ondownload, parent_element) {\n",
       "    this.id = figure_id;\n",
       "\n",
       "    this.ws = websocket;\n",
       "\n",
       "    this.supports_binary = (this.ws.binaryType != undefined);\n",
       "\n",
       "    if (!this.supports_binary) {\n",
       "        var warnings = document.getElementById(\"mpl-warnings\");\n",
       "        if (warnings) {\n",
       "            warnings.style.display = 'block';\n",
       "            warnings.textContent = (\n",
       "                \"This browser does not support binary websocket messages. \" +\n",
       "                    \"Performance may be slow.\");\n",
       "        }\n",
       "    }\n",
       "\n",
       "    this.imageObj = new Image();\n",
       "\n",
       "    this.context = undefined;\n",
       "    this.message = undefined;\n",
       "    this.canvas = undefined;\n",
       "    this.rubberband_canvas = undefined;\n",
       "    this.rubberband_context = undefined;\n",
       "    this.format_dropdown = undefined;\n",
       "\n",
       "    this.image_mode = 'full';\n",
       "\n",
       "    this.root = $('<div/>');\n",
       "    this._root_extra_style(this.root)\n",
       "    this.root.attr('style', 'display: inline-block');\n",
       "\n",
       "    $(parent_element).append(this.root);\n",
       "\n",
       "    this._init_header(this);\n",
       "    this._init_canvas(this);\n",
       "    this._init_toolbar(this);\n",
       "\n",
       "    var fig = this;\n",
       "\n",
       "    this.waiting = false;\n",
       "\n",
       "    this.ws.onopen =  function () {\n",
       "            fig.send_message(\"supports_binary\", {value: fig.supports_binary});\n",
       "            fig.send_message(\"send_image_mode\", {});\n",
       "            if (mpl.ratio != 1) {\n",
       "                fig.send_message(\"set_dpi_ratio\", {'dpi_ratio': mpl.ratio});\n",
       "            }\n",
       "            fig.send_message(\"refresh\", {});\n",
       "        }\n",
       "\n",
       "    this.imageObj.onload = function() {\n",
       "            if (fig.image_mode == 'full') {\n",
       "                // Full images could contain transparency (where diff images\n",
       "                // almost always do), so we need to clear the canvas so that\n",
       "                // there is no ghosting.\n",
       "                fig.context.clearRect(0, 0, fig.canvas.width, fig.canvas.height);\n",
       "            }\n",
       "            fig.context.drawImage(fig.imageObj, 0, 0);\n",
       "        };\n",
       "\n",
       "    this.imageObj.onunload = function() {\n",
       "        fig.ws.close();\n",
       "    }\n",
       "\n",
       "    this.ws.onmessage = this._make_on_message_function(this);\n",
       "\n",
       "    this.ondownload = ondownload;\n",
       "}\n",
       "\n",
       "mpl.figure.prototype._init_header = function() {\n",
       "    var titlebar = $(\n",
       "        '<div class=\"ui-dialog-titlebar ui-widget-header ui-corner-all ' +\n",
       "        'ui-helper-clearfix\"/>');\n",
       "    var titletext = $(\n",
       "        '<div class=\"ui-dialog-title\" style=\"width: 100%; ' +\n",
       "        'text-align: center; padding: 3px;\"/>');\n",
       "    titlebar.append(titletext)\n",
       "    this.root.append(titlebar);\n",
       "    this.header = titletext[0];\n",
       "}\n",
       "\n",
       "\n",
       "\n",
       "mpl.figure.prototype._canvas_extra_style = function(canvas_div) {\n",
       "\n",
       "}\n",
       "\n",
       "\n",
       "mpl.figure.prototype._root_extra_style = function(canvas_div) {\n",
       "\n",
       "}\n",
       "\n",
       "mpl.figure.prototype._init_canvas = function() {\n",
       "    var fig = this;\n",
       "\n",
       "    var canvas_div = $('<div/>');\n",
       "\n",
       "    canvas_div.attr('style', 'position: relative; clear: both; outline: 0');\n",
       "\n",
       "    function canvas_keyboard_event(event) {\n",
       "        return fig.key_event(event, event['data']);\n",
       "    }\n",
       "\n",
       "    canvas_div.keydown('key_press', canvas_keyboard_event);\n",
       "    canvas_div.keyup('key_release', canvas_keyboard_event);\n",
       "    this.canvas_div = canvas_div\n",
       "    this._canvas_extra_style(canvas_div)\n",
       "    this.root.append(canvas_div);\n",
       "\n",
       "    var canvas = $('<canvas/>');\n",
       "    canvas.addClass('mpl-canvas');\n",
       "    canvas.attr('style', \"left: 0; top: 0; z-index: 0; outline: 0\")\n",
       "\n",
       "    this.canvas = canvas[0];\n",
       "    this.context = canvas[0].getContext(\"2d\");\n",
       "\n",
       "    var backingStore = this.context.backingStorePixelRatio ||\n",
       "\tthis.context.webkitBackingStorePixelRatio ||\n",
       "\tthis.context.mozBackingStorePixelRatio ||\n",
       "\tthis.context.msBackingStorePixelRatio ||\n",
       "\tthis.context.oBackingStorePixelRatio ||\n",
       "\tthis.context.backingStorePixelRatio || 1;\n",
       "\n",
       "    mpl.ratio = (window.devicePixelRatio || 1) / backingStore;\n",
       "\n",
       "    var rubberband = $('<canvas/>');\n",
       "    rubberband.attr('style', \"position: absolute; left: 0; top: 0; z-index: 1;\")\n",
       "\n",
       "    var pass_mouse_events = true;\n",
       "\n",
       "    canvas_div.resizable({\n",
       "        start: function(event, ui) {\n",
       "            pass_mouse_events = false;\n",
       "        },\n",
       "        resize: function(event, ui) {\n",
       "            fig.request_resize(ui.size.width, ui.size.height);\n",
       "        },\n",
       "        stop: function(event, ui) {\n",
       "            pass_mouse_events = true;\n",
       "            fig.request_resize(ui.size.width, ui.size.height);\n",
       "        },\n",
       "    });\n",
       "\n",
       "    function mouse_event_fn(event) {\n",
       "        if (pass_mouse_events)\n",
       "            return fig.mouse_event(event, event['data']);\n",
       "    }\n",
       "\n",
       "    rubberband.mousedown('button_press', mouse_event_fn);\n",
       "    rubberband.mouseup('button_release', mouse_event_fn);\n",
       "    // Throttle sequential mouse events to 1 every 20ms.\n",
       "    rubberband.mousemove('motion_notify', mouse_event_fn);\n",
       "\n",
       "    rubberband.mouseenter('figure_enter', mouse_event_fn);\n",
       "    rubberband.mouseleave('figure_leave', mouse_event_fn);\n",
       "\n",
       "    canvas_div.on(\"wheel\", function (event) {\n",
       "        event = event.originalEvent;\n",
       "        event['data'] = 'scroll'\n",
       "        if (event.deltaY < 0) {\n",
       "            event.step = 1;\n",
       "        } else {\n",
       "            event.step = -1;\n",
       "        }\n",
       "        mouse_event_fn(event);\n",
       "    });\n",
       "\n",
       "    canvas_div.append(canvas);\n",
       "    canvas_div.append(rubberband);\n",
       "\n",
       "    this.rubberband = rubberband;\n",
       "    this.rubberband_canvas = rubberband[0];\n",
       "    this.rubberband_context = rubberband[0].getContext(\"2d\");\n",
       "    this.rubberband_context.strokeStyle = \"#000000\";\n",
       "\n",
       "    this._resize_canvas = function(width, height) {\n",
       "        // Keep the size of the canvas, canvas container, and rubber band\n",
       "        // canvas in synch.\n",
       "        canvas_div.css('width', width)\n",
       "        canvas_div.css('height', height)\n",
       "\n",
       "        canvas.attr('width', width * mpl.ratio);\n",
       "        canvas.attr('height', height * mpl.ratio);\n",
       "        canvas.attr('style', 'width: ' + width + 'px; height: ' + height + 'px;');\n",
       "\n",
       "        rubberband.attr('width', width);\n",
       "        rubberband.attr('height', height);\n",
       "    }\n",
       "\n",
       "    // Set the figure to an initial 600x600px, this will subsequently be updated\n",
       "    // upon first draw.\n",
       "    this._resize_canvas(600, 600);\n",
       "\n",
       "    // Disable right mouse context menu.\n",
       "    $(this.rubberband_canvas).bind(\"contextmenu\",function(e){\n",
       "        return false;\n",
       "    });\n",
       "\n",
       "    function set_focus () {\n",
       "        canvas.focus();\n",
       "        canvas_div.focus();\n",
       "    }\n",
       "\n",
       "    window.setTimeout(set_focus, 100);\n",
       "}\n",
       "\n",
       "mpl.figure.prototype._init_toolbar = function() {\n",
       "    var fig = this;\n",
       "\n",
       "    var nav_element = $('<div/>')\n",
       "    nav_element.attr('style', 'width: 100%');\n",
       "    this.root.append(nav_element);\n",
       "\n",
       "    // Define a callback function for later on.\n",
       "    function toolbar_event(event) {\n",
       "        return fig.toolbar_button_onclick(event['data']);\n",
       "    }\n",
       "    function toolbar_mouse_event(event) {\n",
       "        return fig.toolbar_button_onmouseover(event['data']);\n",
       "    }\n",
       "\n",
       "    for(var toolbar_ind in mpl.toolbar_items) {\n",
       "        var name = mpl.toolbar_items[toolbar_ind][0];\n",
       "        var tooltip = mpl.toolbar_items[toolbar_ind][1];\n",
       "        var image = mpl.toolbar_items[toolbar_ind][2];\n",
       "        var method_name = mpl.toolbar_items[toolbar_ind][3];\n",
       "\n",
       "        if (!name) {\n",
       "            // put a spacer in here.\n",
       "            continue;\n",
       "        }\n",
       "        var button = $('<button/>');\n",
       "        button.addClass('ui-button ui-widget ui-state-default ui-corner-all ' +\n",
       "                        'ui-button-icon-only');\n",
       "        button.attr('role', 'button');\n",
       "        button.attr('aria-disabled', 'false');\n",
       "        button.click(method_name, toolbar_event);\n",
       "        button.mouseover(tooltip, toolbar_mouse_event);\n",
       "\n",
       "        var icon_img = $('<span/>');\n",
       "        icon_img.addClass('ui-button-icon-primary ui-icon');\n",
       "        icon_img.addClass(image);\n",
       "        icon_img.addClass('ui-corner-all');\n",
       "\n",
       "        var tooltip_span = $('<span/>');\n",
       "        tooltip_span.addClass('ui-button-text');\n",
       "        tooltip_span.html(tooltip);\n",
       "\n",
       "        button.append(icon_img);\n",
       "        button.append(tooltip_span);\n",
       "\n",
       "        nav_element.append(button);\n",
       "    }\n",
       "\n",
       "    var fmt_picker_span = $('<span/>');\n",
       "\n",
       "    var fmt_picker = $('<select/>');\n",
       "    fmt_picker.addClass('mpl-toolbar-option ui-widget ui-widget-content');\n",
       "    fmt_picker_span.append(fmt_picker);\n",
       "    nav_element.append(fmt_picker_span);\n",
       "    this.format_dropdown = fmt_picker[0];\n",
       "\n",
       "    for (var ind in mpl.extensions) {\n",
       "        var fmt = mpl.extensions[ind];\n",
       "        var option = $(\n",
       "            '<option/>', {selected: fmt === mpl.default_extension}).html(fmt);\n",
       "        fmt_picker.append(option)\n",
       "    }\n",
       "\n",
       "    // Add hover states to the ui-buttons\n",
       "    $( \".ui-button\" ).hover(\n",
       "        function() { $(this).addClass(\"ui-state-hover\");},\n",
       "        function() { $(this).removeClass(\"ui-state-hover\");}\n",
       "    );\n",
       "\n",
       "    var status_bar = $('<span class=\"mpl-message\"/>');\n",
       "    nav_element.append(status_bar);\n",
       "    this.message = status_bar[0];\n",
       "}\n",
       "\n",
       "mpl.figure.prototype.request_resize = function(x_pixels, y_pixels) {\n",
       "    // Request matplotlib to resize the figure. Matplotlib will then trigger a resize in the client,\n",
       "    // which will in turn request a refresh of the image.\n",
       "    this.send_message('resize', {'width': x_pixels, 'height': y_pixels});\n",
       "}\n",
       "\n",
       "mpl.figure.prototype.send_message = function(type, properties) {\n",
       "    properties['type'] = type;\n",
       "    properties['figure_id'] = this.id;\n",
       "    this.ws.send(JSON.stringify(properties));\n",
       "}\n",
       "\n",
       "mpl.figure.prototype.send_draw_message = function() {\n",
       "    if (!this.waiting) {\n",
       "        this.waiting = true;\n",
       "        this.ws.send(JSON.stringify({type: \"draw\", figure_id: this.id}));\n",
       "    }\n",
       "}\n",
       "\n",
       "\n",
       "mpl.figure.prototype.handle_save = function(fig, msg) {\n",
       "    var format_dropdown = fig.format_dropdown;\n",
       "    var format = format_dropdown.options[format_dropdown.selectedIndex].value;\n",
       "    fig.ondownload(fig, format);\n",
       "}\n",
       "\n",
       "\n",
       "mpl.figure.prototype.handle_resize = function(fig, msg) {\n",
       "    var size = msg['size'];\n",
       "    if (size[0] != fig.canvas.width || size[1] != fig.canvas.height) {\n",
       "        fig._resize_canvas(size[0], size[1]);\n",
       "        fig.send_message(\"refresh\", {});\n",
       "    };\n",
       "}\n",
       "\n",
       "mpl.figure.prototype.handle_rubberband = function(fig, msg) {\n",
       "    var x0 = msg['x0'] / mpl.ratio;\n",
       "    var y0 = (fig.canvas.height - msg['y0']) / mpl.ratio;\n",
       "    var x1 = msg['x1'] / mpl.ratio;\n",
       "    var y1 = (fig.canvas.height - msg['y1']) / mpl.ratio;\n",
       "    x0 = Math.floor(x0) + 0.5;\n",
       "    y0 = Math.floor(y0) + 0.5;\n",
       "    x1 = Math.floor(x1) + 0.5;\n",
       "    y1 = Math.floor(y1) + 0.5;\n",
       "    var min_x = Math.min(x0, x1);\n",
       "    var min_y = Math.min(y0, y1);\n",
       "    var width = Math.abs(x1 - x0);\n",
       "    var height = Math.abs(y1 - y0);\n",
       "\n",
       "    fig.rubberband_context.clearRect(\n",
       "        0, 0, fig.canvas.width, fig.canvas.height);\n",
       "\n",
       "    fig.rubberband_context.strokeRect(min_x, min_y, width, height);\n",
       "}\n",
       "\n",
       "mpl.figure.prototype.handle_figure_label = function(fig, msg) {\n",
       "    // Updates the figure title.\n",
       "    fig.header.textContent = msg['label'];\n",
       "}\n",
       "\n",
       "mpl.figure.prototype.handle_cursor = function(fig, msg) {\n",
       "    var cursor = msg['cursor'];\n",
       "    switch(cursor)\n",
       "    {\n",
       "    case 0:\n",
       "        cursor = 'pointer';\n",
       "        break;\n",
       "    case 1:\n",
       "        cursor = 'default';\n",
       "        break;\n",
       "    case 2:\n",
       "        cursor = 'crosshair';\n",
       "        break;\n",
       "    case 3:\n",
       "        cursor = 'move';\n",
       "        break;\n",
       "    }\n",
       "    fig.rubberband_canvas.style.cursor = cursor;\n",
       "}\n",
       "\n",
       "mpl.figure.prototype.handle_message = function(fig, msg) {\n",
       "    fig.message.textContent = msg['message'];\n",
       "}\n",
       "\n",
       "mpl.figure.prototype.handle_draw = function(fig, msg) {\n",
       "    // Request the server to send over a new figure.\n",
       "    fig.send_draw_message();\n",
       "}\n",
       "\n",
       "mpl.figure.prototype.handle_image_mode = function(fig, msg) {\n",
       "    fig.image_mode = msg['mode'];\n",
       "}\n",
       "\n",
       "mpl.figure.prototype.updated_canvas_event = function() {\n",
       "    // Called whenever the canvas gets updated.\n",
       "    this.send_message(\"ack\", {});\n",
       "}\n",
       "\n",
       "// A function to construct a web socket function for onmessage handling.\n",
       "// Called in the figure constructor.\n",
       "mpl.figure.prototype._make_on_message_function = function(fig) {\n",
       "    return function socket_on_message(evt) {\n",
       "        if (evt.data instanceof Blob) {\n",
       "            /* FIXME: We get \"Resource interpreted as Image but\n",
       "             * transferred with MIME type text/plain:\" errors on\n",
       "             * Chrome.  But how to set the MIME type?  It doesn't seem\n",
       "             * to be part of the websocket stream */\n",
       "            evt.data.type = \"image/png\";\n",
       "\n",
       "            /* Free the memory for the previous frames */\n",
       "            if (fig.imageObj.src) {\n",
       "                (window.URL || window.webkitURL).revokeObjectURL(\n",
       "                    fig.imageObj.src);\n",
       "            }\n",
       "\n",
       "            fig.imageObj.src = (window.URL || window.webkitURL).createObjectURL(\n",
       "                evt.data);\n",
       "            fig.updated_canvas_event();\n",
       "            fig.waiting = false;\n",
       "            return;\n",
       "        }\n",
       "        else if (typeof evt.data === 'string' && evt.data.slice(0, 21) == \"data:image/png;base64\") {\n",
       "            fig.imageObj.src = evt.data;\n",
       "            fig.updated_canvas_event();\n",
       "            fig.waiting = false;\n",
       "            return;\n",
       "        }\n",
       "\n",
       "        var msg = JSON.parse(evt.data);\n",
       "        var msg_type = msg['type'];\n",
       "\n",
       "        // Call the  \"handle_{type}\" callback, which takes\n",
       "        // the figure and JSON message as its only arguments.\n",
       "        try {\n",
       "            var callback = fig[\"handle_\" + msg_type];\n",
       "        } catch (e) {\n",
       "            console.log(\"No handler for the '\" + msg_type + \"' message type: \", msg);\n",
       "            return;\n",
       "        }\n",
       "\n",
       "        if (callback) {\n",
       "            try {\n",
       "                // console.log(\"Handling '\" + msg_type + \"' message: \", msg);\n",
       "                callback(fig, msg);\n",
       "            } catch (e) {\n",
       "                console.log(\"Exception inside the 'handler_\" + msg_type + \"' callback:\", e, e.stack, msg);\n",
       "            }\n",
       "        }\n",
       "    };\n",
       "}\n",
       "\n",
       "// from http://stackoverflow.com/questions/1114465/getting-mouse-location-in-canvas\n",
       "mpl.findpos = function(e) {\n",
       "    //this section is from http://www.quirksmode.org/js/events_properties.html\n",
       "    var targ;\n",
       "    if (!e)\n",
       "        e = window.event;\n",
       "    if (e.target)\n",
       "        targ = e.target;\n",
       "    else if (e.srcElement)\n",
       "        targ = e.srcElement;\n",
       "    if (targ.nodeType == 3) // defeat Safari bug\n",
       "        targ = targ.parentNode;\n",
       "\n",
       "    // jQuery normalizes the pageX and pageY\n",
       "    // pageX,Y are the mouse positions relative to the document\n",
       "    // offset() returns the position of the element relative to the document\n",
       "    var x = e.pageX - $(targ).offset().left;\n",
       "    var y = e.pageY - $(targ).offset().top;\n",
       "\n",
       "    return {\"x\": x, \"y\": y};\n",
       "};\n",
       "\n",
       "/*\n",
       " * return a copy of an object with only non-object keys\n",
       " * we need this to avoid circular references\n",
       " * http://stackoverflow.com/a/24161582/3208463\n",
       " */\n",
       "function simpleKeys (original) {\n",
       "  return Object.keys(original).reduce(function (obj, key) {\n",
       "    if (typeof original[key] !== 'object')\n",
       "        obj[key] = original[key]\n",
       "    return obj;\n",
       "  }, {});\n",
       "}\n",
       "\n",
       "mpl.figure.prototype.mouse_event = function(event, name) {\n",
       "    var canvas_pos = mpl.findpos(event)\n",
       "\n",
       "    if (name === 'button_press')\n",
       "    {\n",
       "        this.canvas.focus();\n",
       "        this.canvas_div.focus();\n",
       "    }\n",
       "\n",
       "    var x = canvas_pos.x * mpl.ratio;\n",
       "    var y = canvas_pos.y * mpl.ratio;\n",
       "\n",
       "    this.send_message(name, {x: x, y: y, button: event.button,\n",
       "                             step: event.step,\n",
       "                             guiEvent: simpleKeys(event)});\n",
       "\n",
       "    /* This prevents the web browser from automatically changing to\n",
       "     * the text insertion cursor when the button is pressed.  We want\n",
       "     * to control all of the cursor setting manually through the\n",
       "     * 'cursor' event from matplotlib */\n",
       "    event.preventDefault();\n",
       "    return false;\n",
       "}\n",
       "\n",
       "mpl.figure.prototype._key_event_extra = function(event, name) {\n",
       "    // Handle any extra behaviour associated with a key event\n",
       "}\n",
       "\n",
       "mpl.figure.prototype.key_event = function(event, name) {\n",
       "\n",
       "    // Prevent repeat events\n",
       "    if (name == 'key_press')\n",
       "    {\n",
       "        if (event.which === this._key)\n",
       "            return;\n",
       "        else\n",
       "            this._key = event.which;\n",
       "    }\n",
       "    if (name == 'key_release')\n",
       "        this._key = null;\n",
       "\n",
       "    var value = '';\n",
       "    if (event.ctrlKey && event.which != 17)\n",
       "        value += \"ctrl+\";\n",
       "    if (event.altKey && event.which != 18)\n",
       "        value += \"alt+\";\n",
       "    if (event.shiftKey && event.which != 16)\n",
       "        value += \"shift+\";\n",
       "\n",
       "    value += 'k';\n",
       "    value += event.which.toString();\n",
       "\n",
       "    this._key_event_extra(event, name);\n",
       "\n",
       "    this.send_message(name, {key: value,\n",
       "                             guiEvent: simpleKeys(event)});\n",
       "    return false;\n",
       "}\n",
       "\n",
       "mpl.figure.prototype.toolbar_button_onclick = function(name) {\n",
       "    if (name == 'download') {\n",
       "        this.handle_save(this, null);\n",
       "    } else {\n",
       "        this.send_message(\"toolbar_button\", {name: name});\n",
       "    }\n",
       "};\n",
       "\n",
       "mpl.figure.prototype.toolbar_button_onmouseover = function(tooltip) {\n",
       "    this.message.textContent = tooltip;\n",
       "};\n",
       "mpl.toolbar_items = [[\"Home\", \"Reset original view\", \"fa fa-home icon-home\", \"home\"], [\"Back\", \"Back to  previous view\", \"fa fa-arrow-left icon-arrow-left\", \"back\"], [\"Forward\", \"Forward to next view\", \"fa fa-arrow-right icon-arrow-right\", \"forward\"], [\"\", \"\", \"\", \"\"], [\"Pan\", \"Pan axes with left mouse, zoom with right\", \"fa fa-arrows icon-move\", \"pan\"], [\"Zoom\", \"Zoom to rectangle\", \"fa fa-square-o icon-check-empty\", \"zoom\"], [\"\", \"\", \"\", \"\"], [\"Download\", \"Download plot\", \"fa fa-floppy-o icon-save\", \"download\"]];\n",
       "\n",
       "mpl.extensions = [\"eps\", \"jpeg\", \"pdf\", \"png\", \"ps\", \"raw\", \"svg\", \"tif\"];\n",
       "\n",
       "mpl.default_extension = \"png\";var comm_websocket_adapter = function(comm) {\n",
       "    // Create a \"websocket\"-like object which calls the given IPython comm\n",
       "    // object with the appropriate methods. Currently this is a non binary\n",
       "    // socket, so there is still some room for performance tuning.\n",
       "    var ws = {};\n",
       "\n",
       "    ws.close = function() {\n",
       "        comm.close()\n",
       "    };\n",
       "    ws.send = function(m) {\n",
       "        //console.log('sending', m);\n",
       "        comm.send(m);\n",
       "    };\n",
       "    // Register the callback with on_msg.\n",
       "    comm.on_msg(function(msg) {\n",
       "        //console.log('receiving', msg['content']['data'], msg);\n",
       "        // Pass the mpl event to the overridden (by mpl) onmessage function.\n",
       "        ws.onmessage(msg['content']['data'])\n",
       "    });\n",
       "    return ws;\n",
       "}\n",
       "\n",
       "mpl.mpl_figure_comm = function(comm, msg) {\n",
       "    // This is the function which gets called when the mpl process\n",
       "    // starts-up an IPython Comm through the \"matplotlib\" channel.\n",
       "\n",
       "    var id = msg.content.data.id;\n",
       "    // Get hold of the div created by the display call when the Comm\n",
       "    // socket was opened in Python.\n",
       "    var element = $(\"#\" + id);\n",
       "    var ws_proxy = comm_websocket_adapter(comm)\n",
       "\n",
       "    function ondownload(figure, format) {\n",
       "        window.open(figure.imageObj.src);\n",
       "    }\n",
       "\n",
       "    var fig = new mpl.figure(id, ws_proxy,\n",
       "                           ondownload,\n",
       "                           element.get(0));\n",
       "\n",
       "    // Call onopen now - mpl needs it, as it is assuming we've passed it a real\n",
       "    // web socket which is closed, not our websocket->open comm proxy.\n",
       "    ws_proxy.onopen();\n",
       "\n",
       "    fig.parent_element = element.get(0);\n",
       "    fig.cell_info = mpl.find_output_cell(\"<div id='\" + id + \"'></div>\");\n",
       "    if (!fig.cell_info) {\n",
       "        console.error(\"Failed to find cell for figure\", id, fig);\n",
       "        return;\n",
       "    }\n",
       "\n",
       "    var output_index = fig.cell_info[2]\n",
       "    var cell = fig.cell_info[0];\n",
       "\n",
       "};\n",
       "\n",
       "mpl.figure.prototype.handle_close = function(fig, msg) {\n",
       "    var width = fig.canvas.width/mpl.ratio\n",
       "    fig.root.unbind('remove')\n",
       "\n",
       "    // Update the output cell to use the data from the current canvas.\n",
       "    fig.push_to_output();\n",
       "    var dataURL = fig.canvas.toDataURL();\n",
       "    // Re-enable the keyboard manager in IPython - without this line, in FF,\n",
       "    // the notebook keyboard shortcuts fail.\n",
       "    IPython.keyboard_manager.enable()\n",
       "    $(fig.parent_element).html('<img src=\"' + dataURL + '\" width=\"' + width + '\">');\n",
       "    fig.close_ws(fig, msg);\n",
       "}\n",
       "\n",
       "mpl.figure.prototype.close_ws = function(fig, msg){\n",
       "    fig.send_message('closing', msg);\n",
       "    // fig.ws.close()\n",
       "}\n",
       "\n",
       "mpl.figure.prototype.push_to_output = function(remove_interactive) {\n",
       "    // Turn the data on the canvas into data in the output cell.\n",
       "    var width = this.canvas.width/mpl.ratio\n",
       "    var dataURL = this.canvas.toDataURL();\n",
       "    this.cell_info[1]['text/html'] = '<img src=\"' + dataURL + '\" width=\"' + width + '\">';\n",
       "}\n",
       "\n",
       "mpl.figure.prototype.updated_canvas_event = function() {\n",
       "    // Tell IPython that the notebook contents must change.\n",
       "    IPython.notebook.set_dirty(true);\n",
       "    this.send_message(\"ack\", {});\n",
       "    var fig = this;\n",
       "    // Wait a second, then push the new image to the DOM so\n",
       "    // that it is saved nicely (might be nice to debounce this).\n",
       "    setTimeout(function () { fig.push_to_output() }, 1000);\n",
       "}\n",
       "\n",
       "mpl.figure.prototype._init_toolbar = function() {\n",
       "    var fig = this;\n",
       "\n",
       "    var nav_element = $('<div/>')\n",
       "    nav_element.attr('style', 'width: 100%');\n",
       "    this.root.append(nav_element);\n",
       "\n",
       "    // Define a callback function for later on.\n",
       "    function toolbar_event(event) {\n",
       "        return fig.toolbar_button_onclick(event['data']);\n",
       "    }\n",
       "    function toolbar_mouse_event(event) {\n",
       "        return fig.toolbar_button_onmouseover(event['data']);\n",
       "    }\n",
       "\n",
       "    for(var toolbar_ind in mpl.toolbar_items){\n",
       "        var name = mpl.toolbar_items[toolbar_ind][0];\n",
       "        var tooltip = mpl.toolbar_items[toolbar_ind][1];\n",
       "        var image = mpl.toolbar_items[toolbar_ind][2];\n",
       "        var method_name = mpl.toolbar_items[toolbar_ind][3];\n",
       "\n",
       "        if (!name) { continue; };\n",
       "\n",
       "        var button = $('<button class=\"btn btn-default\" href=\"#\" title=\"' + name + '\"><i class=\"fa ' + image + ' fa-lg\"></i></button>');\n",
       "        button.click(method_name, toolbar_event);\n",
       "        button.mouseover(tooltip, toolbar_mouse_event);\n",
       "        nav_element.append(button);\n",
       "    }\n",
       "\n",
       "    // Add the status bar.\n",
       "    var status_bar = $('<span class=\"mpl-message\" style=\"text-align:right; float: right;\"/>');\n",
       "    nav_element.append(status_bar);\n",
       "    this.message = status_bar[0];\n",
       "\n",
       "    // Add the close button to the window.\n",
       "    var buttongrp = $('<div class=\"btn-group inline pull-right\"></div>');\n",
       "    var button = $('<button class=\"btn btn-mini btn-primary\" href=\"#\" title=\"Stop Interaction\"><i class=\"fa fa-power-off icon-remove icon-large\"></i></button>');\n",
       "    button.click(function (evt) { fig.handle_close(fig, {}); } );\n",
       "    button.mouseover('Stop Interaction', toolbar_mouse_event);\n",
       "    buttongrp.append(button);\n",
       "    var titlebar = this.root.find($('.ui-dialog-titlebar'));\n",
       "    titlebar.prepend(buttongrp);\n",
       "}\n",
       "\n",
       "mpl.figure.prototype._root_extra_style = function(el){\n",
       "    var fig = this\n",
       "    el.on(\"remove\", function(){\n",
       "\tfig.close_ws(fig, {});\n",
       "    });\n",
       "}\n",
       "\n",
       "mpl.figure.prototype._canvas_extra_style = function(el){\n",
       "    // this is important to make the div 'focusable\n",
       "    el.attr('tabindex', 0)\n",
       "    // reach out to IPython and tell the keyboard manager to turn it's self\n",
       "    // off when our div gets focus\n",
       "\n",
       "    // location in version 3\n",
       "    if (IPython.notebook.keyboard_manager) {\n",
       "        IPython.notebook.keyboard_manager.register_events(el);\n",
       "    }\n",
       "    else {\n",
       "        // location in version 2\n",
       "        IPython.keyboard_manager.register_events(el);\n",
       "    }\n",
       "\n",
       "}\n",
       "\n",
       "mpl.figure.prototype._key_event_extra = function(event, name) {\n",
       "    var manager = IPython.notebook.keyboard_manager;\n",
       "    if (!manager)\n",
       "        manager = IPython.keyboard_manager;\n",
       "\n",
       "    // Check for shift+enter\n",
       "    if (event.shiftKey && event.which == 13) {\n",
       "        this.canvas_div.blur();\n",
       "        event.shiftKey = false;\n",
       "        // Send a \"J\" for go to next cell\n",
       "        event.which = 74;\n",
       "        event.keyCode = 74;\n",
       "        manager.command_mode();\n",
       "        manager.handle_keydown(event);\n",
       "    }\n",
       "}\n",
       "\n",
       "mpl.figure.prototype.handle_save = function(fig, msg) {\n",
       "    fig.ondownload(fig, null);\n",
       "}\n",
       "\n",
       "\n",
       "mpl.find_output_cell = function(html_output) {\n",
       "    // Return the cell and output element which can be found *uniquely* in the notebook.\n",
       "    // Note - this is a bit hacky, but it is done because the \"notebook_saving.Notebook\"\n",
       "    // IPython event is triggered only after the cells have been serialised, which for\n",
       "    // our purposes (turning an active figure into a static one), is too late.\n",
       "    var cells = IPython.notebook.get_cells();\n",
       "    var ncells = cells.length;\n",
       "    for (var i=0; i<ncells; i++) {\n",
       "        var cell = cells[i];\n",
       "        if (cell.cell_type === 'code'){\n",
       "            for (var j=0; j<cell.output_area.outputs.length; j++) {\n",
       "                var data = cell.output_area.outputs[j];\n",
       "                if (data.data) {\n",
       "                    // IPython >= 3 moved mimebundle to data attribute of output\n",
       "                    data = data.data;\n",
       "                }\n",
       "                if (data['text/html'] == html_output) {\n",
       "                    return [cell, data, j];\n",
       "                }\n",
       "            }\n",
       "        }\n",
       "    }\n",
       "}\n",
       "\n",
       "// Register the function which deals with the matplotlib target/channel.\n",
       "// The kernel may be null if the page has been refreshed.\n",
       "if (IPython.notebook.kernel != null) {\n",
       "    IPython.notebook.kernel.comm_manager.register_target('matplotlib', mpl.mpl_figure_comm);\n",
       "}\n"
      ],
      "text/plain": [
       "<IPython.core.display.Javascript object>"
      ]
     },
     "metadata": {},
     "output_type": "display_data"
    },
    {
     "data": {
      "text/html": [
       "<img src=\"data:image/png;base64,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\" width=\"638.888905813665\">"
      ],
      "text/plain": [
       "<IPython.core.display.HTML object>"
      ]
     },
     "metadata": {},
     "output_type": "display_data"
    }
   ],
   "source": [
    "%matplotlib notebook\n",
    "from skimage.segmentation import slic\n",
    "from skimage.segmentation import mark_boundaries\n",
    "from skimage.util import img_as_float\n",
    "import matplotlib.pyplot as plt\n",
    "import numpy as np\n",
    "import argparse\n",
    "import cv2\n",
    " \n",
    "image = cv2.imread('D:/train_tomato4/Tomato_early_blight/5.jpg')\n",
    "height,width=image.shape[:2]\n",
    "# ret, bw_img = cv2.threshold(image,127,255,cv2.THRESH_BINARY)\n",
    "segments = slic(image, n_segments = 100, sigma = 5) \n",
    "# ax = fig.add_subplot(1, 1, 1)\n",
    "a=cv2.cvtColor(image,cv2.COLOR_BGR2RGB)\n",
    "plt.subplot(121),plt.imshow(a)\n",
    "plt.subplot(122),plt.imshow(mark_boundaries(img_as_float(cv2.cvtColor(image, cv2.COLOR_BGR2RGB)),segments,color=[255,0,0],mode='subpixel'))\n",
    "# ax.imshow()\n",
    "plt.axis(\"off\")\n",
    "plt.show()"
   ]
  },
  {
   "cell_type": "code",
   "execution_count": 2,
   "metadata": {},
   "outputs": [
    {
     "data": {
      "text/plain": [
       "(256L, 256L)"
      ]
     },
     "execution_count": 2,
     "metadata": {},
     "output_type": "execute_result"
    }
   ],
   "source": [
    "height,width"
   ]
  },
  {
   "cell_type": "code",
   "execution_count": 3,
   "metadata": {},
   "outputs": [
    {
     "data": {
      "text/plain": [
       "(<matplotlib.axes._subplots.AxesSubplot at 0xbddae80>,\n",
       " <matplotlib.image.AxesImage at 0xbe19d68>,\n",
       " Text(0.5,1,'LAB_IMAGE'))"
      ]
     },
     "execution_count": 3,
     "metadata": {},
     "output_type": "execute_result"
    },
    {
     "data": {
      "image/png": "[encoded data removed]",
      "text/plain": [
       "<Figure size 432x288 with 1 Axes>"
      ]
     },
     "metadata": {
      "needs_background": "light"
     },
     "output_type": "display_data"
    }
   ],
   "source": [
    "lab_image = cv2.cvtColor(a, cv2.COLOR_BGR2LAB)\n",
    "plt.subplot(664),plt.imshow(lab_image),plt.title('LAB_IMAGE')"
   ]
  },
  {
   "cell_type": "code",
   "execution_count": 50,
   "metadata": {},
   "outputs": [
    {
     "data": {
      "text/plain": [
       "<matplotlib.image.AxesImage at 0xd01b588>"
      ]
     },
     "execution_count": 50,
     "metadata": {},
     "output_type": "execute_result"
    },
    {
     "data": {
      "image/png": "[encoded data removed]",
      "text/plain": [
       "<Figure size 432x288 with 1 Axes>"
      ]
     },
     "metadata": {
      "needs_background": "light"
     },
     "output_type": "display_data"
    }
   ],
   "source": [
    "plt.imshow(segments)"
   ]
  },
  {
   "cell_type": "code",
   "execution_count": 78,
   "metadata": {},
   "outputs": [
    {
     "name": "stdout",
     "output_type": "stream",
     "text": [
      "('j', 0)\n",
      "(0, 0)\n",
      "1\n",
      "(0, 1)\n",
      "2\n",
      "(0, 2)\n",
      "3\n",
      "('j is now', 0)\n",
      "('j', 1)\n",
      "(1, 0)\n",
      "1\n",
      "(1, 1)\n",
      "2\n",
      "(1, 2)\n",
      "3\n",
      "('j is now', 1)\n",
      "('j', 2)\n",
      "(2, 0)\n",
      "1\n",
      "(2, 1)\n",
      "2\n",
      "(2, 2)\n",
      "3\n",
      "('j is now', 2)\n",
      "('j', 3)\n",
      "('j is now', 3)\n",
      "('j', 4)\n",
      "('j is now', 4)\n",
      "('j', 5)\n",
      "('j is now', 5)\n",
      "('j', 6)\n",
      "('j is now', 6)\n",
      "('j', 7)\n",
      "('j is now', 7)\n",
      "('j', 8)\n",
      "('j is now', 8)\n",
      "('j', 9)\n",
      "('j is now', 9)\n",
      "('j', 10)\n",
      "('j is now', 10)\n",
      "('j', 11)\n",
      "('j is now', 11)\n",
      "('j', 12)\n",
      "('j is now', 12)\n",
      "('j', 13)\n",
      "('j is now', 13)\n",
      "('j', 14)\n",
      "('j is now', 14)\n",
      "('j', 15)\n",
      "('j is now', 15)\n",
      "('j', 16)\n",
      "('j is now', 16)\n",
      "('j', 17)\n",
      "('j is now', 17)\n",
      "('j', 18)\n",
      "('j is now', 18)\n",
      "('j', 19)\n",
      "('j is now', 19)\n",
      "('j', 20)\n",
      "('j is now', 20)\n",
      "('j', 21)\n",
      "('j is now', 21)\n",
      "('j', 22)\n",
      "('j is now', 22)\n",
      "('j', 23)\n",
      "('j is now', 23)\n",
      "('j', 24)\n",
      "('j is now', 24)\n",
      "('Final column of superpixel cluster', [3, 3, 3, 0, 0, 0, 0, 0, 0, 0, 0, 0, 0, 0, 0, 0, 0, 0, 0, 0, 0, 0, 0, 0, 0])\n",
      "('Superpixel segment', [array([255, 128, 128], dtype=uint8), array([253, 128, 128], dtype=uint8), array([255, 128, 128], dtype=uint8), array([254, 128, 128], dtype=uint8), array([255, 128, 128], dtype=uint8), array([255, 128, 128], dtype=uint8), array([253, 128, 128], dtype=uint8), array([255, 128, 128], dtype=uint8), array([252, 128, 128], dtype=uint8)])\n",
      "(252, 128, 128)\n",
      "(255, 128, 128)\n",
      "('height,width of superpixel', 3L, 3L)\n",
      "128.0\n",
      "128.0\n",
      "128.0\n",
      "128.0\n",
      "0\n",
      "(0, 1)\n",
      "('arr[idx]', array([253, 128, 128], dtype=uint8))\n",
      "('lab_image', array([253, 128, 128], dtype=uint8))\n",
      "0\n",
      "(2, 0)\n",
      "('arr[idx]', array([253, 128, 128], dtype=uint8))\n",
      "('lab_image', array([253, 128, 128], dtype=uint8))\n",
      "0\n",
      "(2, 2)\n",
      "('arr[idx]', array([252, 128, 128], dtype=uint8))\n",
      "('lab_image', array([252, 128, 128], dtype=uint8))\n"
     ]
    },
    {
     "data": {
      "image/png": "[encoded data removed]",
      "text/plain": [
       "<Figure size 432x288 with 1 Axes>"
      ]
     },
     "metadata": {
      "needs_background": "light"
     },
     "output_type": "display_data"
    }
   ],
   "source": [
    "\n",
    "count=[]\n",
    "flag=0\n",
    "from statistics import mean\n",
    "d1_a=d1_b=d2_a=d2_b=[]\n",
    "for i in range(0,1,1):\n",
    "    arr=[]\n",
    "    coordinate=[]\n",
    "    for j in range(height): \n",
    "        print('j',j)\n",
    "        counter=0\n",
    "        for k in range(width):   \n",
    "                if segments[j,k]==i: \n",
    "#                     print(j,k)\n",
    "                    coordinate.append([j,k])\n",
    "                    print(j,k)\n",
    "                    arr.append(lab_image[j,k])  \n",
    "                    counter=counter+1\n",
    "                    print(counter)\n",
    "        print('j is now',j)\n",
    "        count.append(counter)            \n",
    "    print('Final column of superpixel cluster',count)   \n",
    "    # row=j-init_j\n",
    "    # col=k-init_k\n",
    "    # print('Number of rows and columns of a cluster',row,col)\n",
    "    # print('Final rows and columns',j,k)\n",
    "    print('Superpixel segment',arr)\n",
    "    min_l=min([x[0] for x in arr])\n",
    "    min_a=min([x[1] for x in arr])\n",
    "    min_b=min([x[2] for x in arr])\n",
    "    print(min_l,min_a,min_b)\n",
    "    max_l=max([x[0] for x in arr])\n",
    "    max_a=max([x[1] for x in arr])\n",
    "    max_b=max([x[2] for x in arr])\n",
    "    print(max_l,max_a,max_b)\n",
    "    arr = np.asarray(arr)\n",
    "#     vectorized=arr.reshape(-1,3)\n",
    "    vectorized=np.float32(arr)\n",
    "    criteria=(cv2.TERM_CRITERIA_EPS + cv2.TERM_CRITERIA_MAX_ITER,10, 1.0)\n",
    "    k=2\n",
    "    init_center=([min_l, min_a,  min_b], [max_l, max_a,  max_b])\n",
    "    res1,label,center=cv2.kmeans(vectorized,k,np.array(init_center), criteria,10,cv2.KMEANS_RANDOM_CENTERS)\n",
    "#     center=np.uint8(center)\n",
    "#     c=(label.flatten())\n",
    "    res2 = center[c.astype(int)]\n",
    "    res3= res2.reshape((3,-1,3))\n",
    "#                 # c=(label==0).flatten()\n",
    "    reshape_label=label.reshape(-1,3)\n",
    "#     plt.subplot(131),plt.imshow(reshape_label,cmap='gray')\n",
    "    # plt.subplots_adjust(bottom=1.0, right=1.8, top=3.0, wspace = 0.5, hspace=0.5)\n",
    "#     plt.subplot(132),plt.imshow(res3)\n",
    "    # #             plt.hist(reshape_label.ravel(),4,[0,4]); plt.show()\n",
    "#     plt.subplot(133),plt.imshow(arr)\n",
    "    h,w=reshape_label.shape[:2]\n",
    "    print('height,width of superpixel',h,w)\n",
    "    for i in range(h):\n",
    "        for j in range(w):\n",
    "    #         print('i &j',i,'+',j)\n",
    "    #         print(reshape_label[i,j])\n",
    "            if reshape_label[i,j]==1:\n",
    "    #             print('in if',reshape_label[i,j])\n",
    "                d1_a.append(res3[i,j,1])\n",
    "                d1_b.append(res3[i,j,2])\n",
    "    #             print('values',d1_a[counter])\n",
    "    #             print('values',d1_b[counter])\n",
    "            else:\n",
    "                d2_a.append(res3[i,j,1])\n",
    "                d2_b.append(res3[i,j,2])\n",
    "    #             print('values',d2_a[counter])\n",
    "    #             print('values',d2_b[counter])\n",
    "    #         counter=counter+1\n",
    "\n",
    "    print(np.mean(d1_a))\n",
    "    print(np.mean(d1_b))\n",
    "    print(np.mean(d2_a))\n",
    "    print(np.mean(d2_b))\n",
    "    labels = list(label.reshape(1, -1)[0])\n",
    "    lab_image = np.zeros_like(lab_image)\n",
    "    for idx, value in enumerate(labels):\n",
    "        if value == 0:\n",
    "            print(value)\n",
    "            x, y = coordinate[idx]\n",
    "            print(x,y)\n",
    "            print('arr[idx]',arr[idx])\n",
    "            lab_image[x,y]=arr[idx]\n",
    "            print('lab_image',lab_image[x,y])\n",
    "    \n",
    "    plt.imshow(lab_image)\n",
    "#     if d1_a<= d2_a and d1_b <=d2_b:\n",
    "#        print(label.index('0'))\n"
   ]
  },
  {
   "cell_type": "code",
   "execution_count": 86,
   "metadata": {},
   "outputs": [
    {
     "data": {
      "text/plain": [
       "(3L, 3L, 3L)"
      ]
     },
     "execution_count": 86,
     "metadata": {},
     "output_type": "execute_result"
    }
   ],
   "source": [
    "res3.shape"
   ]
  },
  {
   "cell_type": "code",
   "execution_count": 87,
   "metadata": {},
   "outputs": [
    {
     "data": {
      "text/plain": [
       "(9L, 3L)"
      ]
     },
     "execution_count": 87,
     "metadata": {},
     "output_type": "execute_result"
    }
   ],
   "source": [
    "arr.shape"
   ]
  },
  {
   "cell_type": "code",
   "execution_count": 82,
   "metadata": {},
   "outputs": [
    {
     "data": {
      "text/plain": [
       "array([[254, 128, 128],\n",
       "       [252, 128, 128],\n",
       "       [254, 128, 128],\n",
       "       [254, 128, 128],\n",
       "       [254, 128, 128],\n",
       "       [254, 128, 128],\n",
       "       [252, 128, 128],\n",
       "       [254, 128, 128],\n",
       "       [252, 128, 128]], dtype=uint8)"
      ]
     },
     "execution_count": 82,
     "metadata": {},
     "output_type": "execute_result"
    }
   ],
   "source": [
    "res2"
   ]
  },
  {
   "cell_type": "code",
   "execution_count": 83,
   "metadata": {},
   "outputs": [
    {
     "data": {
      "text/plain": [
       "array([[[254, 128, 128],\n",
       "        [252, 128, 128],\n",
       "        [254, 128, 128]],\n",
       "\n",
       "       [[254, 128, 128],\n",
       "        [254, 128, 128],\n",
       "        [254, 128, 128]],\n",
       "\n",
       "       [[252, 128, 128],\n",
       "        [254, 128, 128],\n",
       "        [252, 128, 128]]], dtype=uint8)"
      ]
     },
     "execution_count": 83,
     "metadata": {},
     "output_type": "execute_result"
    }
   ],
   "source": [
    "res3"
   ]
  },
  {
   "cell_type": "code",
   "execution_count": 73,
   "metadata": {},
   "outputs": [
    {
     "name": "stdout",
     "output_type": "stream",
     "text": [
      "[[[255 128 128]\n",
      "  [253 128 128]\n",
      "  [255 128 128]]\n",
      "\n",
      " [[254 128 128]\n",
      "  [255 128 128]\n",
      "  [255 128 128]]\n",
      "\n",
      " [[253 128 128]\n",
      "  [255 128 128]\n",
      "  [252 128 128]]]\n"
     ]
    }
   ],
   "source": [
    "print(lab_image[:3, :3])"
   ]
  },
  {
   "cell_type": "code",
   "execution_count": 77,
   "metadata": {},
   "outputs": [
    {
     "data": {
      "text/plain": [
       "array([[[255, 128, 128],\n",
       "        [253, 128, 128],\n",
       "        [255, 128, 128]],\n",
       "\n",
       "       [[254, 128, 128],\n",
       "        [255, 128, 128],\n",
       "        [255, 128, 128]],\n",
       "\n",
       "       [[253, 128, 128],\n",
       "        [255, 128, 128],\n",
       "        [252, 128, 128]]], dtype=uint8)"
      ]
     },
     "execution_count": 77,
     "metadata": {},
     "output_type": "execute_result"
    }
   ],
   "source": [
    "lab_image[:3,:3]"
   ]
  },
  {
   "cell_type": "code",
   "execution_count": 67,
   "metadata": {},
   "outputs": [
    {
     "data": {
      "text/plain": [
       "array([[ 0,  0,  0,  1,  1,  1,  2,  2,  2,  3,  3,  3,  4,  4,  4,  5,\n",
       "         5,  5,  5],\n",
       "       [ 0,  0,  0,  1,  1,  1,  2,  2,  2,  3,  3,  3,  4,  4,  4,  5,\n",
       "         5,  5,  5],\n",
       "       [ 0,  0,  0,  1,  1,  1,  2,  2,  2,  3,  3,  3,  4,  4,  4,  5,\n",
       "         5,  5,  5],\n",
       "       [ 6,  6,  6,  7,  7,  7,  8,  8,  8,  9,  9,  9, 10, 10, 10, 11,\n",
       "        11, 11, 11],\n",
       "       [ 6,  6,  6,  7,  7,  7,  8,  8,  8,  9,  9,  9, 10, 10, 10, 11,\n",
       "        11, 11, 11],\n",
       "       [ 6,  6,  6,  7,  7,  7,  8,  8,  8,  9,  9,  9, 10, 10, 10, 11,\n",
       "        11, 11, 11],\n",
       "       [12, 12, 12, 13, 13, 13, 14, 14, 14, 15, 15, 15, 16, 16, 16, 17,\n",
       "        17, 17, 17],\n",
       "       [12, 12, 12, 13, 13, 13, 14, 14, 14, 15, 15, 15, 16, 16, 16, 17,\n",
       "        17, 17, 17],\n",
       "       [12, 12, 12, 13, 13, 13, 14, 14, 14, 15, 15, 15, 16, 16, 16, 17,\n",
       "        17, 17, 17],\n",
       "       [18, 18, 18, 19, 19, 19, 20, 20, 20, 21, 21, 21, 22, 22, 22, 23,\n",
       "        23, 23, 23],\n",
       "       [18, 18, 18, 19, 19, 19, 20, 20, 20, 21, 21, 21, 22, 22, 22, 23,\n",
       "        23, 23, 23],\n",
       "       [18, 18, 18, 19, 19, 19, 20, 20, 20, 21, 21, 21, 22, 22, 22, 23,\n",
       "        23, 23, 23],\n",
       "       [24, 24, 24, 25, 25, 25, 26, 26, 26, 27, 27, 27, 28, 28, 28, 29,\n",
       "        29, 29, 29],\n",
       "       [24, 24, 24, 25, 25, 25, 26, 26, 26, 27, 27, 27, 28, 28, 28, 29,\n",
       "        29, 29, 29],\n",
       "       [24, 24, 24, 25, 25, 25, 26, 26, 26, 27, 27, 27, 28, 28, 28, 29,\n",
       "        29, 29, 29],\n",
       "       [30, 30, 30, 31, 31, 31, 32, 32, 32, 33, 33, 33, 34, 34, 34, 35,\n",
       "        35, 35, 35],\n",
       "       [30, 30, 30, 31, 31, 31, 32, 32, 32, 33, 33, 33, 34, 34, 34, 35,\n",
       "        35, 35, 35],\n",
       "       [30, 30, 30, 31, 31, 31, 32, 32, 32, 33, 33, 33, 34, 34, 34, 35,\n",
       "        35, 35, 35],\n",
       "       [36, 36, 36, 37, 37, 37, 38, 38, 38, 39, 39, 39, 40, 40, 40, 41,\n",
       "        41, 41, 41],\n",
       "       [36, 36, 36, 37, 37, 37, 38, 38, 38, 39, 39, 39, 40, 40, 40, 41,\n",
       "        41, 41, 41],\n",
       "       [36, 36, 36, 37, 37, 37, 38, 38, 38, 39, 39, 39, 40, 40, 40, 41,\n",
       "        41, 41, 41],\n",
       "       [42, 42, 42, 43, 43, 43, 44, 44, 44, 45, 45, 45, 46, 46, 46, 47,\n",
       "        47, 47, 47],\n",
       "       [42, 42, 42, 43, 43, 43, 44, 44, 44, 45, 45, 45, 46, 46, 46, 47,\n",
       "        47, 47, 47],\n",
       "       [42, 42, 42, 43, 43, 43, 44, 44, 44, 45, 45, 45, 46, 46, 46, 47,\n",
       "        47, 47, 47],\n",
       "       [42, 42, 42, 43, 43, 43, 44, 44, 44, 45, 45, 45, 46, 46, 46, 47,\n",
       "        47, 47, 47]], dtype=int64)"
      ]
     },
     "execution_count": 67,
     "metadata": {},
     "output_type": "execute_result"
    }
   ],
   "source": [
    "segments"
   ]
  },
  {
   "cell_type": "code",
   "execution_count": 22,
   "metadata": {},
   "outputs": [
    {
     "data": {
      "text/plain": [
       "[0, 0, 0, 0, 0, 0, 0, 0, 1]"
      ]
     },
     "execution_count": 22,
     "metadata": {},
     "output_type": "execute_result"
    }
   ],
   "source": [
    "labels"
   ]
  },
  {
   "cell_type": "code",
   "execution_count": 12,
   "metadata": {},
   "outputs": [],
   "source": []
  },
  {
   "cell_type": "code",
   "execution_count": 18,
   "metadata": {},
   "outputs": [
    {
     "data": {
      "text/plain": [
       "<matplotlib.image.AxesImage at 0xcec8be0>"
      ]
     },
     "execution_count": 18,
     "metadata": {},
     "output_type": "execute_result"
    },
    {
     "data": {
      "image/png": "[encoded data removed]",
      "text/plain": [
       "<Figure size 432x288 with 1 Axes>"
      ]
     },
     "metadata": {
      "needs_background": "light"
     },
     "output_type": "display_data"
    }
   ],
   "source": [
    "\n",
    "\n"
   ]
  },
  {
   "cell_type": "code",
   "execution_count": 15,
   "metadata": {},
   "outputs": [
    {
     "data": {
      "text/plain": [
       "array([[0, 0, 0],\n",
       "       [0, 0, 0],\n",
       "       [0, 0, 0],\n",
       "       [0, 0, 0],\n",
       "       [0, 0, 0],\n",
       "       [0, 0, 0],\n",
       "       [0, 0, 0],\n",
       "       [0, 0, 0],\n",
       "       [0, 0, 0]], dtype=uint8)"
      ]
     },
     "execution_count": 15,
     "metadata": {},
     "output_type": "execute_result"
    }
   ],
   "source": [
    "empty_arr"
   ]
  },
  {
   "cell_type": "code",
   "execution_count": 121,
   "metadata": {},
   "outputs": [
    {
     "name": "stdout",
     "output_type": "stream",
     "text": [
      "[2, 10]\n"
     ]
    }
   ],
   "source": [
    "x = [5,1,7,0,3,4,5,3,2,6,7,3,6]\n",
    "get_indexes = lambda x, xs: [i for (y, i) in zip(xs, range(len(xs))) if x == y]\n",
    "print(get_indexes(7,x))\n"
   ]
  },
  {
   "cell_type": "code",
   "execution_count": 136,
   "metadata": {},
   "outputs": [
    {
     "data": {
      "text/plain": [
       "[1, 2, 3, 4, 7, 8]"
      ]
     },
     "execution_count": 136,
     "metadata": {},
     "output_type": "execute_result"
    }
   ],
   "source": [
    "indexes = [i for i,x in enumerate(label) if x == 0]\n",
    "for i in range(len(indexes))\n",
    "     arr[coordinate[indexes]]=0"
   ]
  },
  {
   "cell_type": "code",
   "execution_count": 138,
   "metadata": {},
   "outputs": [
    {
     "data": {
      "text/plain": [
       "[18, 11]"
      ]
     },
     "execution_count": 138,
     "metadata": {},
     "output_type": "execute_result"
    }
   ],
   "source": [
    "\n",
    "coordinate[2]\n",
    "arr[indexes]"
   ]
  },
  {
   "cell_type": "code",
   "execution_count": 128,
   "metadata": {},
   "outputs": [
    {
     "name": "stdout",
     "output_type": "stream",
     "text": [
      "[1 0 0 0 0 1 1 0 0]\n",
      "[3]\n"
     ]
    }
   ],
   "source": [
    "label=label.flatten()\n",
    "print(label)\n",
    "get_indexes = lambda x, xs: [i for (y, i) in zip(xs, range(len(xs))) if x == y]\n",
    "print(get_indexes(0,x))"
   ]
  },
  {
   "cell_type": "code",
   "execution_count": 127,
   "metadata": {},
   "outputs": [
    {
     "data": {
      "text/plain": [
       "array([1, 0, 0, 0, 0, 1, 1, 0, 0])"
      ]
     },
     "execution_count": 127,
     "metadata": {},
     "output_type": "execute_result"
    }
   ],
   "source": [
    "label"
   ]
  },
  {
   "cell_type": "code",
   "execution_count": 359,
   "metadata": {},
   "outputs": [
    {
     "data": {
      "text/plain": [
       "array([[ 0,  0,  0,  1,  1,  1,  2,  2,  2,  3,  3,  3,  4,  4,  4,  5,\n",
       "         5,  5,  5],\n",
       "       [ 0,  0,  0,  1,  1,  1,  2,  2,  2,  3,  3,  3,  4,  4,  4,  5,\n",
       "         5,  5,  5],\n",
       "       [ 0,  0,  0,  1,  1,  1,  2,  2,  2,  3,  3,  3,  4,  4,  4,  5,\n",
       "         5,  5,  5],\n",
       "       [ 6,  6,  6,  7,  7,  7,  8,  8,  8,  9,  9,  9, 10, 10, 10, 11,\n",
       "        11, 11, 11],\n",
       "       [ 6,  6,  6,  7,  7,  7,  8,  8,  8,  9,  9,  9, 10, 10, 10, 11,\n",
       "        11, 11, 11],\n",
       "       [ 6,  6,  6,  7,  7,  7,  8,  8,  8,  9,  9,  9, 10, 10, 10, 11,\n",
       "        11, 11, 11],\n",
       "       [12, 12, 12, 13, 13, 13, 14, 14, 14, 15, 15, 15, 16, 16, 16, 17,\n",
       "        17, 17, 17],\n",
       "       [12, 12, 12, 13, 13, 13, 14, 14, 14, 15, 15, 15, 16, 16, 16, 17,\n",
       "        17, 17, 17],\n",
       "       [12, 12, 12, 13, 13, 13, 14, 14, 14, 15, 15, 15, 16, 16, 16, 17,\n",
       "        17, 17, 17],\n",
       "       [18, 18, 18, 19, 19, 19, 20, 20, 20, 21, 21, 21, 22, 22, 22, 23,\n",
       "        23, 23, 23],\n",
       "       [18, 18, 18, 19, 19, 19, 20, 20, 20, 21, 21, 21, 22, 22, 22, 23,\n",
       "        23, 23, 23],\n",
       "       [18, 18, 18, 19, 19, 19, 20, 20, 20, 21, 21, 21, 22, 22, 22, 23,\n",
       "        23, 23, 23],\n",
       "       [24, 24, 24, 25, 25, 25, 26, 26, 26, 27, 27, 27, 28, 28, 28, 29,\n",
       "        29, 29, 29],\n",
       "       [24, 24, 24, 25, 25, 25, 26, 26, 26, 27, 27, 27, 28, 28, 28, 29,\n",
       "        29, 29, 29],\n",
       "       [24, 24, 24, 25, 25, 25, 26, 26, 26, 27, 27, 27, 28, 28, 28, 29,\n",
       "        29, 29, 29],\n",
       "       [30, 30, 30, 31, 31, 31, 32, 32, 32, 33, 33, 33, 34, 34, 34, 35,\n",
       "        35, 35, 35],\n",
       "       [30, 30, 30, 31, 31, 31, 32, 32, 32, 33, 33, 33, 34, 34, 34, 35,\n",
       "        35, 35, 35],\n",
       "       [30, 30, 30, 31, 31, 31, 32, 32, 32, 33, 33, 33, 34, 34, 34, 35,\n",
       "        35, 35, 35],\n",
       "       [36, 36, 36, 37, 37, 37, 38, 38, 38, 39, 39, 39, 40, 40, 40, 41,\n",
       "        41, 41, 41],\n",
       "       [36, 36, 36, 37, 37, 37, 38, 38, 38, 39, 39, 39, 40, 40, 40, 41,\n",
       "        41, 41, 41],\n",
       "       [36, 36, 36, 37, 37, 37, 38, 38, 38, 39, 39, 39, 40, 40, 40, 41,\n",
       "        41, 41, 41],\n",
       "       [42, 42, 42, 43, 43, 43, 44, 44, 44, 45, 45, 45, 46, 46, 46, 47,\n",
       "        47, 47, 47],\n",
       "       [42, 42, 42, 43, 43, 43, 44, 44, 44, 45, 45, 45, 46, 46, 46, 47,\n",
       "        47, 47, 47],\n",
       "       [42, 42, 42, 43, 43, 43, 44, 44, 44, 45, 45, 45, 46, 46, 46, 47,\n",
       "        47, 47, 47],\n",
       "       [42, 42, 42, 43, 43, 43, 44, 44, 44, 45, 45, 45, 46, 46, 46, 47,\n",
       "        47, 47, 47]], dtype=int64)"
      ]
     },
     "execution_count": 359,
     "metadata": {},
     "output_type": "execute_result"
    }
   ],
   "source": [
    "segments"
   ]
  },
  {
   "cell_type": "code",
   "execution_count": 347,
   "metadata": {},
   "outputs": [
    {
     "data": {
      "text/plain": [
       "(3L, 4L, 3L)"
      ]
     },
     "execution_count": 347,
     "metadata": {},
     "output_type": "execute_result"
    }
   ],
   "source": [
    "res3.shape"
   ]
  },
  {
   "cell_type": "code",
   "execution_count": 349,
   "metadata": {},
   "outputs": [
    {
     "data": {
      "text/plain": [
       "(4L, 3L)"
      ]
     },
     "execution_count": 349,
     "metadata": {},
     "output_type": "execute_result"
    }
   ],
   "source": [
    "reshape_label.shape"
   ]
  },
  {
   "cell_type": "code",
   "execution_count": 345,
   "metadata": {},
   "outputs": [
    {
     "data": {
      "text/plain": [
       "array([[255, 128, 128],\n",
       "       [255, 128, 128],\n",
       "       [255, 128, 128],\n",
       "       [253, 128, 128],\n",
       "       [253, 128, 128],\n",
       "       [253, 128, 128],\n",
       "       [255, 128, 128],\n",
       "       [255, 128, 128],\n",
       "       [253, 128, 128],\n",
       "       [255, 128, 128],\n",
       "       [255, 128, 128],\n",
       "       [255, 128, 128]], dtype=uint8)"
      ]
     },
     "execution_count": 345,
     "metadata": {},
     "output_type": "execute_result"
    }
   ],
   "source": [
    "# res2=res2.reshape(3,3,3)\n",
    "res2"
   ]
  },
  {
   "cell_type": "code",
   "execution_count": 100,
   "metadata": {},
   "outputs": [
    {
     "name": "stdout",
     "output_type": "stream",
     "text": [
      "('height,width of superpixel', 3L, 3L)\n",
      "('in if', 1)\n",
      "('in if', 1)\n",
      "('in if', 1)\n",
      "128.0\n",
      "128.0\n",
      "128.0\n",
      "128.0\n"
     ]
    }
   ],
   "source": [
    "from statistics import mean\n",
    "d1_a=[]\n",
    "d1_b=[]\n",
    "d2_a=[]\n",
    "d2_b=[]\n",
    "h,w=reshape_label.shape[:2]\n",
    "print('height,width of superpixel',h,w)\n",
    "for i in range(h):\n",
    "    for j in range(w):\n",
    "#         print('i &j',i,'+',j)\n",
    "#         print(reshape_label[i,j])\n",
    "        if reshape_label[i,j]==1:\n",
    "#             print('in if',reshape_label[i,j])\n",
    "            d1_a.append(res3[i,j,1])\n",
    "            d1_b.append(res3[i,j,2])\n",
    "#             print('values',d1_a[counter])\n",
    "#             print('values',d1_b[counter])\n",
    "        else:\n",
    "            d2_a.append(res3[i,j,1])\n",
    "            d2_b.append(res3[i,j,2])\n",
    "#             print('values',d2_a[counter])\n",
    "#             print('values',d2_b[counter])\n",
    "#         counter=counter+1\n",
    "\n",
    "print(np.mean(d1_a))\n",
    "print(np.mean(d1_b))\n",
    "print(np.mean(d2_a))\n",
    "print(np.mean(d2_b))\n",
    "if d1_a<= d2_a and d1_b <=d2_b:\n",
    "    "
   ]
  },
  {
   "cell_type": "code",
   "execution_count": 89,
   "metadata": {},
   "outputs": [
    {
     "data": {
      "text/plain": [
       "(3L, 1L, 3L)"
      ]
     },
     "execution_count": 89,
     "metadata": {},
     "output_type": "execute_result"
    }
   ],
   "source": [
    "reshape_label.shape"
   ]
  },
  {
   "cell_type": "code",
   "execution_count": 90,
   "metadata": {},
   "outputs": [
    {
     "data": {
      "text/plain": [
       "array([[[0, 1, 1]],\n",
       "\n",
       "       [[1, 1, 0]],\n",
       "\n",
       "       [[0, 1, 1]]])"
      ]
     },
     "execution_count": 90,
     "metadata": {},
     "output_type": "execute_result"
    }
   ],
   "source": [
    "reshape_label"
   ]
  },
  {
   "cell_type": "code",
   "execution_count": 299,
   "metadata": {},
   "outputs": [
    {
     "data": {
      "text/plain": [
       "[128, 128, 128]"
      ]
     },
     "execution_count": 299,
     "metadata": {},
     "output_type": "execute_result"
    }
   ],
   "source": [
    "d2_a"
   ]
  },
  {
   "cell_type": "code",
   "execution_count": 284,
   "metadata": {},
   "outputs": [],
   "source": [
    "a=[]\n",
    "# a[1]=(res2[0,0,1])\n",
    "a.append(res2[0,0,1])"
   ]
  },
  {
   "cell_type": "code",
   "execution_count": 232,
   "metadata": {},
   "outputs": [
    {
     "data": {
      "text/plain": [
       "<matplotlib.image.AxesImage at 0x1a61ce80>"
      ]
     },
     "execution_count": 232,
     "metadata": {},
     "output_type": "execute_result"
    },
    {
     "data": {
      "image/png": "[encoded data removed]",
      "text/plain": [
       "<Figure size 432x288 with 1 Axes>"
      ]
     },
     "metadata": {
      "needs_background": "light"
     },
     "output_type": "display_data"
    }
   ],
   "source": [
    "res2=res2.reshape(3,3,3)\n",
    "plt.imshow(res2)"
   ]
  },
  {
   "cell_type": "code",
   "execution_count": 124,
   "metadata": {},
   "outputs": [
    {
     "data": {
      "text/plain": [
       "2"
      ]
     },
     "execution_count": 124,
     "metadata": {},
     "output_type": "execute_result"
    }
   ],
   "source": [
    "len(a)"
   ]
  },
  {
   "cell_type": "code",
   "execution_count": 92,
   "metadata": {},
   "outputs": [],
   "source": [
    "x=[]\n",
    "lab_image[0,0]\n",
    "i=0\n",
    "for record in lab_image: \n",
    "    x.append(record)\n",
    "    "
   ]
  },
  {
   "cell_type": "code",
   "execution_count": 94,
   "metadata": {},
   "outputs": [
    {
     "data": {
      "text/plain": [
       "<matplotlib.image.AxesImage at 0x17377c50>"
      ]
     },
     "execution_count": 94,
     "metadata": {},
     "output_type": "execute_result"
    },
    {
     "data": {
      "image/png": "[encoded data removed]",
      "text/plain": [
       "<Figure size 432x288 with 1 Axes>"
      ]
     },
     "metadata": {
      "needs_background": "light"
     },
     "output_type": "display_data"
    }
   ],
   "source": [
    "plt.imshow(x)"
   ]
  },
  {
   "cell_type": "code",
   "execution_count": 77,
   "metadata": {},
   "outputs": [
    {
     "data": {
      "text/plain": [
       "3"
      ]
     },
     "execution_count": 77,
     "metadata": {},
     "output_type": "execute_result"
    }
   ],
   "source": [
    "lab_image.ndim\n"
   ]
  },
  {
   "cell_type": "code",
   "execution_count": 79,
   "metadata": {},
   "outputs": [
    {
     "data": {
      "text/plain": [
       "27"
      ]
     },
     "execution_count": 79,
     "metadata": {},
     "output_type": "execute_result"
    }
   ],
   "source": [
    "import cv2\n",
    "import numpy as np\n",
    "\n",
    "a = np.zeros((100, 100,3))\n",
    "a[:,:,0] = 255\n",
    "\n",
    "b = np.zeros((100, 100,3))\n",
    "b[:,:,1] = 255\n",
    "\n",
    "c = np.zeros((100, 200,3)) \n",
    "c[:,:,2] = 255\n",
    "\n",
    "img = np.vstack((c, np.hstack((a, b))))\n",
    "\n",
    "cv2.imshow('image', img)\n",
    "cv2.waitKey(0)"
   ]
  },
  {
   "cell_type": "code",
   "execution_count": 161,
   "metadata": {},
   "outputs": [
    {
     "data": {
      "image/png": "[encoded data removed]",
      "text/plain": [
       "<Figure size 432x288 with 2 Axes>"
      ]
     },
     "metadata": {
      "needs_background": "light"
     },
     "output_type": "display_data"
    }
   ],
   "source": [
    "from skimage.segmentation import slic\n",
    "from skimage.segmentation import mark_boundaries\n",
    "from skimage.util import img_as_float\n",
    "import matplotlib.pyplot as plt\n",
    "import numpy as np\n",
    "import argparse\n",
    "import cv2\n",
    " \n",
    "image = cv2.imread('D:/praneet_trained/Pune/Early_blight/1.jpg')\n",
    "# ret, bw_img = cv2.threshold(image,127,255,cv2.THRESH_BINARY)\n",
    "segments = slic(image, n_segments = 100, sigma = 5) \n",
    "# ax = fig.add_subplot(1, 1, 1)\n",
    "a=cv2.cvtColor(image,cv2.COLOR_BGR2RGB)\n",
    "plt.subplot(121),plt.imshow(a)\n",
    "plt.subplot(122),plt.imshow(mark_boundaries(img_as_float(cv2.cvtColor(image, cv2.COLOR_BGR2RGB)),segments,color=[25,10,0]))\n",
    "# ax.imshow()\n",
    "plt.axis(\"off\")\n",
    "plt.show()"
   ]
  },
  {
   "cell_type": "code",
   "execution_count": 15,
   "metadata": {},
   "outputs": [
    {
     "data": {
      "text/plain": [
       "<matplotlib.image.AxesImage at 0x11c31940>"
      ]
     },
     "execution_count": 15,
     "metadata": {},
     "output_type": "execute_result"
    },
    {
     "data": {
      "image/png": "[encoded data removed]",
      "text/plain": [
       "<Figure size 432x288 with 1 Axes>"
      ]
     },
     "metadata": {
      "needs_background": "light"
     },
     "output_type": "display_data"
    }
   ],
   "source": [
    "plt.imshow(segments)"
   ]
  },
  {
   "cell_type": "code",
   "execution_count": 162,
   "metadata": {},
   "outputs": [
    {
     "data": {
      "text/plain": [
       "<matplotlib.image.AxesImage at 0x12138a90>"
      ]
     },
     "execution_count": 162,
     "metadata": {},
     "output_type": "execute_result"
    },
    {
     "data": {
      "image/png": "[encoded data removed]",
      "text/plain": [
       "<Figure size 432x288 with 1 Axes>"
      ]
     },
     "metadata": {
      "needs_background": "light"
     },
     "output_type": "display_data"
    }
   ],
   "source": [
    "            vectorized=a.reshape(-1,1)\n",
    "            vectorized=np.float32(vectorized)\n",
    "            criteria=(cv2.TERM_CRITERIA_EPS + cv2.TERM_CRITERIA_MAX_ITER,10, 1.0)\n",
    "            k=4\n",
    "            res1,label,center=cv2.kmeans(vectorized,k,None, criteria,10,cv2.KMEANS_RANDOM_CENTERS)\n",
    "            center=np.uint8(center)\n",
    "            c=(label.flatten())\n",
    "            res2 = center[c.astype(int)]\n",
    "            res3= res2.reshape((a.shape))\n",
    "            # c=(label==0).flatten()\n",
    "            reshape_label=label.reshape(1032,581,3)\n",
    "#             plt.subplot(111),plt.imshow(reshape_label,cmap='gray')\n",
    "            plt.imshow(res3)   \n",
    "#             plt.hist(reshape_label.ravel(),4,[0,4]); plt.show()"
   ]
  },
  {
   "cell_type": "code",
   "execution_count": 164,
   "metadata": {},
   "outputs": [
    {
     "data": {
      "text/plain": [
       "(1032L, 581L, 3L)"
      ]
     },
     "execution_count": 164,
     "metadata": {},
     "output_type": "execute_result"
    }
   ],
   "source": [
    "a.shape"
   ]
  },
  {
   "cell_type": "code",
   "execution_count": 175,
   "metadata": {},
   "outputs": [
    {
     "data": {
      "text/plain": [
       "(1425L, 1L)"
      ]
     },
     "execution_count": 175,
     "metadata": {},
     "output_type": "execute_result"
    }
   ],
   "source": [
    "vectorized.shape"
   ]
  },
  {
   "cell_type": "code",
   "execution_count": 159,
   "metadata": {},
   "outputs": [
    {
     "data": {
      "text/plain": [
       "<matplotlib.image.AxesImage at 0x1232c400>"
      ]
     },
     "execution_count": 159,
     "metadata": {},
     "output_type": "execute_result"
    },
    {
     "data": {
      "image/png": "[encoded data removed]",
      "text/plain": [
       "<Figure size 432x288 with 1 Axes>"
      ]
     },
     "metadata": {
      "needs_background": "light"
     },
     "output_type": "display_data"
    }
   ],
   "source": [
    "            vectorized=a.reshape(-1,1)\n",
    "            vectorized=np.float32(vectorized)\n",
    "            criteria=(cv2.TERM_CRITERIA_EPS + cv2.TERM_CRITERIA_MAX_ITER,10, 1.0)\n",
    "            k=2\n",
    "#             init_center=([105, 112,  79], [110, 117,  83], [122, 126,  91],[0,0,0])\n",
    "            res1,label,center=cv2.kmeans(vectorized,k,None, criteria,10,cv2.KMEANS_RANDOM_CENTERS)\n",
    "            center=np.uint8(center)\n",
    "            c=(label.flatten())\n",
    "            res2 = center[c.astype(int)]\n",
    "            res3= res2.reshape((a.shape))\n",
    "            # c=(label==0).flatten()\n",
    "#             reshape_label=label.reshape(1032,581,3)\n",
    "#             plt.subplot(111),plt.imshow(reshape_label,cmap='gray')\n",
    "            plt.imshow(res3)\n",
    "#             plt.hist(reshape_label.ravel(),4,[0,4]); plt.show()"
   ]
  },
  {
   "cell_type": "code",
   "execution_count": 166,
   "metadata": {},
   "outputs": [
    {
     "data": {
      "text/plain": [
       "(1798776L, 1L)"
      ]
     },
     "execution_count": 166,
     "metadata": {},
     "output_type": "execute_result"
    }
   ],
   "source": [
    "vectorized.shape"
   ]
  },
  {
   "cell_type": "code",
   "execution_count": 23,
   "metadata": {},
   "outputs": [],
   "source": [
    "cv2.imshow('image',res3)\n",
    "cv2.waitKey(0)\n",
    "cv2.destroyAllWindows()"
   ]
  },
  {
   "cell_type": "code",
   "execution_count": 40,
   "metadata": {},
   "outputs": [
    {
     "data": {
      "text/plain": [
       "array([[[0, 0, 3],\n",
       "        [0, 0, 3],\n",
       "        [0, 0, 3],\n",
       "        ...,\n",
       "        [2, 2, 2],\n",
       "        [2, 2, 2],\n",
       "        [2, 2, 2]],\n",
       "\n",
       "       [[0, 0, 3],\n",
       "        [0, 0, 3],\n",
       "        [0, 0, 3],\n",
       "        ...,\n",
       "        [2, 2, 2],\n",
       "        [2, 2, 2],\n",
       "        [2, 2, 2]],\n",
       "\n",
       "       [[0, 0, 0],\n",
       "        [0, 0, 0],\n",
       "        [0, 0, 0],\n",
       "        ...,\n",
       "        [2, 2, 2],\n",
       "        [2, 2, 2],\n",
       "        [2, 2, 2]],\n",
       "\n",
       "       ...,\n",
       "\n",
       "       [[2, 2, 2],\n",
       "        [2, 2, 2],\n",
       "        [2, 2, 2],\n",
       "        ...,\n",
       "        [3, 2, 2],\n",
       "        [2, 2, 2],\n",
       "        [2, 2, 2]],\n",
       "\n",
       "       [[2, 2, 2],\n",
       "        [2, 2, 2],\n",
       "        [2, 2, 2],\n",
       "        ...,\n",
       "        [2, 2, 2],\n",
       "        [2, 2, 2],\n",
       "        [2, 2, 2]],\n",
       "\n",
       "       [[2, 2, 2],\n",
       "        [2, 2, 2],\n",
       "        [2, 2, 2],\n",
       "        ...,\n",
       "        [2, 2, 2],\n",
       "        [2, 2, 2],\n",
       "        [2, 2, 2]]])"
      ]
     },
     "execution_count": 40,
     "metadata": {},
     "output_type": "execute_result"
    }
   ],
   "source": [
    "reshape_label"
   ]
  },
  {
   "cell_type": "code",
   "execution_count": 39,
   "metadata": {},
   "outputs": [
    {
     "ename": "error",
     "evalue": "OpenCV(4.1.1) C:/projects/opencv-python/opencv/modules/highgui/src/precomp.hpp:131: error: (-215:Assertion failed) src_depth != CV_16F && src_depth != CV_32S in function 'convertToShow'\n",
     "output_type": "error",
     "traceback": [
      "\u001b[1;31m---------------------------------------------------------------------------\u001b[0m",
      "\u001b[1;31merror\u001b[0m                                     Traceback (most recent call last)",
      "\u001b[1;32m<ipython-input-39-b9317493d297>\u001b[0m in \u001b[0;36m<module>\u001b[1;34m()\u001b[0m\n\u001b[1;32m----> 1\u001b[1;33m \u001b[0mcv2\u001b[0m\u001b[1;33m.\u001b[0m\u001b[0mimshow\u001b[0m\u001b[1;33m(\u001b[0m\u001b[1;34m'Reshape'\u001b[0m\u001b[1;33m,\u001b[0m\u001b[0mreshape_label\u001b[0m\u001b[1;33m)\u001b[0m\u001b[1;33m\u001b[0m\u001b[0m\n\u001b[0m",
      "\u001b[1;31merror\u001b[0m: OpenCV(4.1.1) C:/projects/opencv-python/opencv/modules/highgui/src/precomp.hpp:131: error: (-215:Assertion failed) src_depth != CV_16F && src_depth != CV_32S in function 'convertToShow'\n"
     ]
    }
   ],
   "source": [
    "cv2.imshow('Reshape',reshape_label)"
   ]
  },
  {
   "cell_type": "code",
   "execution_count": null,
   "metadata": {},
   "outputs": [],
   "source": []
  },
  {
   "cell_type": "code",
   "execution_count": 26,
   "metadata": {},
   "outputs": [
    {
     "data": {
      "text/plain": [
       "(1798776L,)"
      ]
     },
     "execution_count": 26,
     "metadata": {},
     "output_type": "execute_result"
    }
   ],
   "source": [
    "c.shape"
   ]
  },
  {
   "cell_type": "code",
   "execution_count": 84,
   "metadata": {},
   "outputs": [
    {
     "data": {
      "text/plain": [
       "(1032L, 581L, 3L)"
      ]
     },
     "execution_count": 84,
     "metadata": {},
     "output_type": "execute_result"
    }
   ],
   "source": [
    "image.shape"
   ]
  },
  {
   "cell_type": "code",
   "execution_count": null,
   "metadata": {},
   "outputs": [],
   "source": []
  }
 ],
 "metadata": {
  "kernelspec": {
   "display_name": "Python 2",
   "language": "python",
   "name": "python2"
  },
  "language_info": {
   "codemirror_mode": {
    "name": "ipython",
    "version": 2
   },
   "file_extension": ".py",
   "mimetype": "text/x-python",
   "name": "python",
   "nbconvert_exporter": "python",
   "pygments_lexer": "ipython2",
   "version": "2.7.16"
  }
 },
 "nbformat": 4,
 "nbformat_minor": 2
}
